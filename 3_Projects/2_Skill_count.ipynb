{
 "cells": [
  {
   "cell_type": "markdown",
   "id": "82f1d711",
   "metadata": {},
   "source": [
    "### **What are the most Demanding skills for the Top 3 Most Popular Job Roles**"
   ]
  },
  {
   "cell_type": "markdown",
   "id": "e7c3f893",
   "metadata": {},
   "source": [
    "Importing data "
   ]
  },
  {
   "cell_type": "code",
   "execution_count": 2,
   "id": "f5929cb4",
   "metadata": {},
   "outputs": [],
   "source": [
    "import pandas as pd\n",
    "from matplotlib import pyplot as plt\n",
    "import seaborn as sns\n",
    "import ast\n",
    "\n",
    "df = pd.read_csv('D:\\\\Python Data Analysis Course\\\\4_DataSet\\\\data_jobs.csv')\n",
    "\n",
    "df['job_skills'] = df['job_skills'].apply(lambda x : ast.literal_eval(x) if pd.notna(x) else x)\n",
    "df['job_posted_date'] = pd.to_datetime(df['job_posted_date'])"
   ]
  },
  {
   "cell_type": "markdown",
   "id": "14dafcf4",
   "metadata": {},
   "source": [
    "**Performing the Analysis**"
   ]
  },
  {
   "cell_type": "code",
   "execution_count": 3,
   "id": "c02d8d66",
   "metadata": {},
   "outputs": [],
   "source": [
    "df_US = df[df['job_country'] == 'United States']"
   ]
  },
  {
   "cell_type": "markdown",
   "id": "98d90463",
   "metadata": {},
   "source": [
    "**Getting the list to top 3 list**"
   ]
  },
  {
   "cell_type": "code",
   "execution_count": 4,
   "id": "38ffc93e",
   "metadata": {},
   "outputs": [],
   "source": [
    "top3 = df_US['job_title_short'].value_counts().head(3).index.to_list()"
   ]
  },
  {
   "cell_type": "markdown",
   "id": "3cacd4ed",
   "metadata": {},
   "source": [
    "**Exploding the list of job Skills**"
   ]
  },
  {
   "cell_type": "code",
   "execution_count": 5,
   "id": "4df3ce77",
   "metadata": {},
   "outputs": [],
   "source": [
    "df_skills = df_US.explode('job_skills')"
   ]
  },
  {
   "cell_type": "code",
   "execution_count": 6,
   "id": "714bc577",
   "metadata": {},
   "outputs": [],
   "source": [
    "df_skills_count = df_skills.groupby(['job_skills','job_title_short']).size()"
   ]
  },
  {
   "cell_type": "code",
   "execution_count": 7,
   "id": "fca7b623",
   "metadata": {},
   "outputs": [],
   "source": [
    "df_skills_count = df_skills_count.reset_index(name = 'no of skills')\n",
    "df_skills_count = df_skills_count.sort_values(by = 'no of skills',ascending=False)"
   ]
  },
  {
   "cell_type": "code",
   "execution_count": 8,
   "id": "b65503c0",
   "metadata": {},
   "outputs": [
    {
     "data": {
      "text/html": [
       "<div>\n",
       "<style scoped>\n",
       "    .dataframe tbody tr th:only-of-type {\n",
       "        vertical-align: middle;\n",
       "    }\n",
       "\n",
       "    .dataframe tbody tr th {\n",
       "        vertical-align: top;\n",
       "    }\n",
       "\n",
       "    .dataframe thead th {\n",
       "        text-align: right;\n",
       "    }\n",
       "</style>\n",
       "<table border=\"1\" class=\"dataframe\">\n",
       "  <thead>\n",
       "    <tr style=\"text-align: right;\">\n",
       "      <th></th>\n",
       "      <th>job_skills</th>\n",
       "      <th>job_title_short</th>\n",
       "      <th>no of skills</th>\n",
       "    </tr>\n",
       "  </thead>\n",
       "  <tbody>\n",
       "    <tr>\n",
       "      <th>1209</th>\n",
       "      <td>python</td>\n",
       "      <td>Data Scientist</td>\n",
       "      <td>42379</td>\n",
       "    </tr>\n",
       "    <tr>\n",
       "      <th>1521</th>\n",
       "      <td>sql</td>\n",
       "      <td>Data Analyst</td>\n",
       "      <td>34452</td>\n",
       "    </tr>\n",
       "    <tr>\n",
       "      <th>1523</th>\n",
       "      <td>sql</td>\n",
       "      <td>Data Scientist</td>\n",
       "      <td>30034</td>\n",
       "    </tr>\n",
       "    <tr>\n",
       "      <th>455</th>\n",
       "      <td>excel</td>\n",
       "      <td>Data Analyst</td>\n",
       "      <td>27519</td>\n",
       "    </tr>\n",
       "    <tr>\n",
       "      <th>1243</th>\n",
       "      <td>r</td>\n",
       "      <td>Data Scientist</td>\n",
       "      <td>26022</td>\n",
       "    </tr>\n",
       "    <tr>\n",
       "      <th>...</th>\n",
       "      <td>...</td>\n",
       "      <td>...</td>\n",
       "      <td>...</td>\n",
       "    </tr>\n",
       "    <tr>\n",
       "      <th>1785</th>\n",
       "      <td>vue.js</td>\n",
       "      <td>Business Analyst</td>\n",
       "      <td>1</td>\n",
       "    </tr>\n",
       "    <tr>\n",
       "      <th>60</th>\n",
       "      <td>arch</td>\n",
       "      <td>Business Analyst</td>\n",
       "      <td>1</td>\n",
       "    </tr>\n",
       "    <tr>\n",
       "      <th>71</th>\n",
       "      <td>asana</td>\n",
       "      <td>Machine Learning Engineer</td>\n",
       "      <td>1</td>\n",
       "    </tr>\n",
       "    <tr>\n",
       "      <th>968</th>\n",
       "      <td>no-sql</td>\n",
       "      <td>Machine Learning Engineer</td>\n",
       "      <td>1</td>\n",
       "    </tr>\n",
       "    <tr>\n",
       "      <th>1861</th>\n",
       "      <td>zoom</td>\n",
       "      <td>Cloud Engineer</td>\n",
       "      <td>1</td>\n",
       "    </tr>\n",
       "  </tbody>\n",
       "</table>\n",
       "<p>1870 rows × 3 columns</p>\n",
       "</div>"
      ],
      "text/plain": [
       "     job_skills            job_title_short  no of skills\n",
       "1209     python             Data Scientist         42379\n",
       "1521        sql               Data Analyst         34452\n",
       "1523        sql             Data Scientist         30034\n",
       "455       excel               Data Analyst         27519\n",
       "1243          r             Data Scientist         26022\n",
       "...         ...                        ...           ...\n",
       "1785     vue.js           Business Analyst             1\n",
       "60         arch           Business Analyst             1\n",
       "71        asana  Machine Learning Engineer             1\n",
       "968      no-sql  Machine Learning Engineer             1\n",
       "1861       zoom             Cloud Engineer             1\n",
       "\n",
       "[1870 rows x 3 columns]"
      ]
     },
     "execution_count": 8,
     "metadata": {},
     "output_type": "execute_result"
    }
   ],
   "source": [
    "df_skills_count"
   ]
  },
  {
   "cell_type": "markdown",
   "id": "9a411ea8",
   "metadata": {},
   "source": [
    "**Sorting the list in alphabetical order**"
   ]
  },
  {
   "cell_type": "code",
   "execution_count": 9,
   "id": "7a4842cc",
   "metadata": {},
   "outputs": [
    {
     "data": {
      "text/plain": [
       "['Data Analyst', 'Data Engineer', 'Data Scientist']"
      ]
     },
     "execution_count": 9,
     "metadata": {},
     "output_type": "execute_result"
    }
   ],
   "source": [
    "top3 = sorted(top3)\n",
    "top3"
   ]
  },
  {
   "cell_type": "markdown",
   "id": "9c4caf9f",
   "metadata": {},
   "source": [
    "**Plotting the Graph**"
   ]
  },
  {
   "cell_type": "code",
   "execution_count": 10,
   "id": "69f88340",
   "metadata": {},
   "outputs": [
    {
     "data": {
      "image/png": "[encoded data removed]",
      "text/plain": [
       "<Figure size 640x480 with 3 Axes>"
      ]
     },
     "metadata": {},
     "output_type": "display_data"
    }
   ],
   "source": [
    "fig,ax = plt.subplots(len(top3),1)\n",
    "\n",
    "for i,job_title in enumerate(top3):\n",
    "    df_plot = df_skills_count[df_skills_count['job_title_short'] == job_title].head(5) \n",
    "    df_plot.plot(kind = 'barh',x = 'job_skills',y = 'no of skills',ax = ax[i],title = job_title)\n",
    "    ax[i].set_ylabel('')\n",
    "    ax[i].legend().set_visible(False)\n",
    "    ax[i].invert_yaxis()\n",
    "fig.tight_layout()\n",
    "plt.legend().set_visible(False)\n"
   ]
  },
  {
   "cell_type": "markdown",
   "id": "5e065e42",
   "metadata": {},
   "source": [
    "#### **Converting the skills count into percentage**"
   ]
  },
  {
   "cell_type": "code",
   "execution_count": 11,
   "id": "c6d13ee5",
   "metadata": {},
   "outputs": [],
   "source": [
    "df_job_title_count = df_US['job_title_short'].value_counts().reset_index()"
   ]
  },
  {
   "cell_type": "code",
   "execution_count": 12,
   "id": "5fcf4b5f",
   "metadata": {},
   "outputs": [],
   "source": [
    "df_job_title_count.columns = ['job_title_short', 'job_postings']"
   ]
  },
  {
   "cell_type": "code",
   "execution_count": 13,
   "id": "456e5967",
   "metadata": {},
   "outputs": [
    {
     "data": {
      "text/html": [
       "<div>\n",
       "<style scoped>\n",
       "    .dataframe tbody tr th:only-of-type {\n",
       "        vertical-align: middle;\n",
       "    }\n",
       "\n",
       "    .dataframe tbody tr th {\n",
       "        vertical-align: top;\n",
       "    }\n",
       "\n",
       "    .dataframe thead th {\n",
       "        text-align: right;\n",
       "    }\n",
       "</style>\n",
       "<table border=\"1\" class=\"dataframe\">\n",
       "  <thead>\n",
       "    <tr style=\"text-align: right;\">\n",
       "      <th></th>\n",
       "      <th>job_skills</th>\n",
       "      <th>job_title_short</th>\n",
       "      <th>no of skills</th>\n",
       "      <th>job_postings</th>\n",
       "    </tr>\n",
       "  </thead>\n",
       "  <tbody>\n",
       "    <tr>\n",
       "      <th>0</th>\n",
       "      <td>python</td>\n",
       "      <td>Data Scientist</td>\n",
       "      <td>42379</td>\n",
       "      <td>58830</td>\n",
       "    </tr>\n",
       "    <tr>\n",
       "      <th>1</th>\n",
       "      <td>sql</td>\n",
       "      <td>Data Analyst</td>\n",
       "      <td>34452</td>\n",
       "      <td>67816</td>\n",
       "    </tr>\n",
       "    <tr>\n",
       "      <th>2</th>\n",
       "      <td>sql</td>\n",
       "      <td>Data Scientist</td>\n",
       "      <td>30034</td>\n",
       "      <td>58830</td>\n",
       "    </tr>\n",
       "    <tr>\n",
       "      <th>3</th>\n",
       "      <td>excel</td>\n",
       "      <td>Data Analyst</td>\n",
       "      <td>27519</td>\n",
       "      <td>67816</td>\n",
       "    </tr>\n",
       "    <tr>\n",
       "      <th>4</th>\n",
       "      <td>r</td>\n",
       "      <td>Data Scientist</td>\n",
       "      <td>26022</td>\n",
       "      <td>58830</td>\n",
       "    </tr>\n",
       "    <tr>\n",
       "      <th>...</th>\n",
       "      <td>...</td>\n",
       "      <td>...</td>\n",
       "      <td>...</td>\n",
       "      <td>...</td>\n",
       "    </tr>\n",
       "    <tr>\n",
       "      <th>1865</th>\n",
       "      <td>vue.js</td>\n",
       "      <td>Business Analyst</td>\n",
       "      <td>1</td>\n",
       "      <td>7382</td>\n",
       "    </tr>\n",
       "    <tr>\n",
       "      <th>1866</th>\n",
       "      <td>arch</td>\n",
       "      <td>Business Analyst</td>\n",
       "      <td>1</td>\n",
       "      <td>7382</td>\n",
       "    </tr>\n",
       "    <tr>\n",
       "      <th>1867</th>\n",
       "      <td>asana</td>\n",
       "      <td>Machine Learning Engineer</td>\n",
       "      <td>1</td>\n",
       "      <td>921</td>\n",
       "    </tr>\n",
       "    <tr>\n",
       "      <th>1868</th>\n",
       "      <td>no-sql</td>\n",
       "      <td>Machine Learning Engineer</td>\n",
       "      <td>1</td>\n",
       "      <td>921</td>\n",
       "    </tr>\n",
       "    <tr>\n",
       "      <th>1869</th>\n",
       "      <td>zoom</td>\n",
       "      <td>Cloud Engineer</td>\n",
       "      <td>1</td>\n",
       "      <td>423</td>\n",
       "    </tr>\n",
       "  </tbody>\n",
       "</table>\n",
       "<p>1870 rows × 4 columns</p>\n",
       "</div>"
      ],
      "text/plain": [
       "     job_skills            job_title_short  no of skills  job_postings\n",
       "0        python             Data Scientist         42379         58830\n",
       "1           sql               Data Analyst         34452         67816\n",
       "2           sql             Data Scientist         30034         58830\n",
       "3         excel               Data Analyst         27519         67816\n",
       "4             r             Data Scientist         26022         58830\n",
       "...         ...                        ...           ...           ...\n",
       "1865     vue.js           Business Analyst             1          7382\n",
       "1866       arch           Business Analyst             1          7382\n",
       "1867      asana  Machine Learning Engineer             1           921\n",
       "1868     no-sql  Machine Learning Engineer             1           921\n",
       "1869       zoom             Cloud Engineer             1           423\n",
       "\n",
       "[1870 rows x 4 columns]"
      ]
     },
     "execution_count": 13,
     "metadata": {},
     "output_type": "execute_result"
    }
   ],
   "source": [
    "df_pct = pd.merge(df_skills_count,df_job_title_count,on = 'job_title_short')\n",
    "df_pct"
   ]
  },
  {
   "cell_type": "code",
   "execution_count": 14,
   "id": "7dad0fb4",
   "metadata": {},
   "outputs": [
    {
     "data": {
      "text/html": [
       "<div>\n",
       "<style scoped>\n",
       "    .dataframe tbody tr th:only-of-type {\n",
       "        vertical-align: middle;\n",
       "    }\n",
       "\n",
       "    .dataframe tbody tr th {\n",
       "        vertical-align: top;\n",
       "    }\n",
       "\n",
       "    .dataframe thead th {\n",
       "        text-align: right;\n",
       "    }\n",
       "</style>\n",
       "<table border=\"1\" class=\"dataframe\">\n",
       "  <thead>\n",
       "    <tr style=\"text-align: right;\">\n",
       "      <th></th>\n",
       "      <th>job_skills</th>\n",
       "      <th>job_title_short</th>\n",
       "      <th>no of skills</th>\n",
       "      <th>job_postings</th>\n",
       "      <th>skill_pct</th>\n",
       "    </tr>\n",
       "  </thead>\n",
       "  <tbody>\n",
       "    <tr>\n",
       "      <th>0</th>\n",
       "      <td>python</td>\n",
       "      <td>Data Scientist</td>\n",
       "      <td>42379</td>\n",
       "      <td>58830</td>\n",
       "      <td>72.036376</td>\n",
       "    </tr>\n",
       "    <tr>\n",
       "      <th>1</th>\n",
       "      <td>sql</td>\n",
       "      <td>Data Analyst</td>\n",
       "      <td>34452</td>\n",
       "      <td>67816</td>\n",
       "      <td>50.802171</td>\n",
       "    </tr>\n",
       "    <tr>\n",
       "      <th>2</th>\n",
       "      <td>sql</td>\n",
       "      <td>Data Scientist</td>\n",
       "      <td>30034</td>\n",
       "      <td>58830</td>\n",
       "      <td>51.052184</td>\n",
       "    </tr>\n",
       "    <tr>\n",
       "      <th>3</th>\n",
       "      <td>excel</td>\n",
       "      <td>Data Analyst</td>\n",
       "      <td>27519</td>\n",
       "      <td>67816</td>\n",
       "      <td>40.578919</td>\n",
       "    </tr>\n",
       "    <tr>\n",
       "      <th>4</th>\n",
       "      <td>r</td>\n",
       "      <td>Data Scientist</td>\n",
       "      <td>26022</td>\n",
       "      <td>58830</td>\n",
       "      <td>44.232534</td>\n",
       "    </tr>\n",
       "    <tr>\n",
       "      <th>...</th>\n",
       "      <td>...</td>\n",
       "      <td>...</td>\n",
       "      <td>...</td>\n",
       "      <td>...</td>\n",
       "      <td>...</td>\n",
       "    </tr>\n",
       "    <tr>\n",
       "      <th>1865</th>\n",
       "      <td>vue.js</td>\n",
       "      <td>Business Analyst</td>\n",
       "      <td>1</td>\n",
       "      <td>7382</td>\n",
       "      <td>0.013546</td>\n",
       "    </tr>\n",
       "    <tr>\n",
       "      <th>1866</th>\n",
       "      <td>arch</td>\n",
       "      <td>Business Analyst</td>\n",
       "      <td>1</td>\n",
       "      <td>7382</td>\n",
       "      <td>0.013546</td>\n",
       "    </tr>\n",
       "    <tr>\n",
       "      <th>1867</th>\n",
       "      <td>asana</td>\n",
       "      <td>Machine Learning Engineer</td>\n",
       "      <td>1</td>\n",
       "      <td>921</td>\n",
       "      <td>0.108578</td>\n",
       "    </tr>\n",
       "    <tr>\n",
       "      <th>1868</th>\n",
       "      <td>no-sql</td>\n",
       "      <td>Machine Learning Engineer</td>\n",
       "      <td>1</td>\n",
       "      <td>921</td>\n",
       "      <td>0.108578</td>\n",
       "    </tr>\n",
       "    <tr>\n",
       "      <th>1869</th>\n",
       "      <td>zoom</td>\n",
       "      <td>Cloud Engineer</td>\n",
       "      <td>1</td>\n",
       "      <td>423</td>\n",
       "      <td>0.236407</td>\n",
       "    </tr>\n",
       "  </tbody>\n",
       "</table>\n",
       "<p>1870 rows × 5 columns</p>\n",
       "</div>"
      ],
      "text/plain": [
       "     job_skills            job_title_short  no of skills  job_postings  \\\n",
       "0        python             Data Scientist         42379         58830   \n",
       "1           sql               Data Analyst         34452         67816   \n",
       "2           sql             Data Scientist         30034         58830   \n",
       "3         excel               Data Analyst         27519         67816   \n",
       "4             r             Data Scientist         26022         58830   \n",
       "...         ...                        ...           ...           ...   \n",
       "1865     vue.js           Business Analyst             1          7382   \n",
       "1866       arch           Business Analyst             1          7382   \n",
       "1867      asana  Machine Learning Engineer             1           921   \n",
       "1868     no-sql  Machine Learning Engineer             1           921   \n",
       "1869       zoom             Cloud Engineer             1           423   \n",
       "\n",
       "      skill_pct  \n",
       "0     72.036376  \n",
       "1     50.802171  \n",
       "2     51.052184  \n",
       "3     40.578919  \n",
       "4     44.232534  \n",
       "...         ...  \n",
       "1865   0.013546  \n",
       "1866   0.013546  \n",
       "1867   0.108578  \n",
       "1868   0.108578  \n",
       "1869   0.236407  \n",
       "\n",
       "[1870 rows x 5 columns]"
      ]
     },
     "execution_count": 14,
     "metadata": {},
     "output_type": "execute_result"
    }
   ],
   "source": [
    "df_pct['skill_pct'] = 100*(df_pct['no of skills'] / df_pct['job_postings'])\n",
    "df_pct"
   ]
  },
  {
   "cell_type": "code",
   "execution_count": null,
   "id": "46b0cb71",
   "metadata": {},
   "outputs": [
    {
     "name": "stderr",
     "output_type": "stream",
     "text": [
      "C:\\Users\\Pallav\\AppData\\Local\\Temp\\ipykernel_12996\\3717570801.py:15: UserWarning: This figure includes Axes that are not compatible with tight_layout, so results might be incorrect.\n",
      "  fig.tight_layout()\n"
     ]
    },
    {
     "data": {
      "image/png": "[encoded data removed]",
      "text/plain": [
       "<Figure size 800x800 with 3 Axes>"
      ]
     },
     "metadata": {},
     "output_type": "display_data"
    }
   ],
   "source": [
    "fig, ax = plt.subplots(len(top3), 1, figsize=(8,8), gridspec_kw={'hspace': 0.5})\n",
    "sns.set_theme(style = 'ticks')\n",
    "for i,job_title in enumerate(top3):\n",
    "    df_plot = df_pct[df_pct['job_title_short'] == job_title].head(5) \n",
    "    sns.barplot(data = df_plot,x = 'skill_pct',y = 'job_skills',ax = ax[i],hue = 'skill_pct',palette='dark:b_r')\n",
    "    ax[i].set_title(job_title)\n",
    "    ax[i].set_ylabel('')\n",
    "    ax[i].legend().set_visible(False)\n",
    "    ax[i].invert_yaxis()\n",
    "    ax[i].set_xlim(0,70)\n",
    "    ax[i].set_xlabel('No of (%)')\n",
    "\n",
    "plt.suptitle('Likelyhood Skill that are requested in the US Job posting')\n",
    "plt.legend().remove()"
   ]
  }
 ],
 "metadata": {
  "kernelspec": {
   "display_name": "Python 3",
   "language": "python",
   "name": "python3"
  },
  "language_info": {
   "codemirror_mode": {
    "name": "ipython",
    "version": 3
   },
   "file_extension": ".py",
   "mimetype": "text/x-python",
   "name": "python",
   "nbconvert_exporter": "python",
   "pygments_lexer": "ipython3",
   "version": "3.13.5"
  }
 },
 "nbformat": 4,
 "nbformat_minor": 5
}

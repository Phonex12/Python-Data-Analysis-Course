{
 "cells": [
  {
   "cell_type": "markdown",
   "id": "d00feeb2",
   "metadata": {},
   "source": [
    "**Question 1**"
   ]
  },
  {
   "cell_type": "code",
   "execution_count": 2,
   "id": "e02594de",
   "metadata": {},
   "outputs": [],
   "source": [
    "job_roles = [\n",
    "    {'role': 'Data Analyst', 'skills': ['Python', 'SQL', 'Excel']},\n",
    "    {'role': 'Data Scientist', 'skills': ['Python', 'R', 'Machine Learning', 'Deep Learning']},\n",
    "    {'role': 'Machine Learning Engineer', 'skills': ['Python', 'TensorFlow', 'PyTorch', 'Scikit-Learn']},\n",
    "    {'role': 'Data Engineer', 'skills': ['Python', 'Apache Spark', 'Hadoop', 'SQL']},\n",
    "    {'role': 'Business Intelligence Analyst', 'skills': ['Python', 'SQL', 'Tableau', 'Power BI', 'Excel']},\n",
    "    {'role': 'Quantitative Analyst', 'skills': ['R', 'Python', 'MATLAB', 'Statistics']},\n",
    "    {'role': 'Operations Analyst', 'skills': ['Python', 'SQL', 'Data Visualization', 'Process Improvement']},\n",
    "    {'role': 'Database Administrator', 'skills': ['SQL', 'Oracle', 'MySQL', 'Database Management']},\n",
    "    {'role': 'AI Engineer', 'skills': ['Python', 'TensorFlow', 'PyTorch', 'Computer Vision']},\n",
    "    {'role': 'Statistician', 'skills': ['R', 'SAS', 'Python', 'Statistical Modeling']}\n",
    "]\n",
    "# My skills\n",
    "my_skills = ['Python', 'SQL', 'Excel']"
   ]
  },
  {
   "cell_type": "code",
   "execution_count": 3,
   "id": "f44722e9",
   "metadata": {},
   "outputs": [
    {
     "name": "stdout",
     "output_type": "stream",
     "text": [
      "{'role': 'Data Analyst', 'skills': ['Python', 'SQL', 'Excel']}\n",
      "{'role': 'Data Scientist', 'skills': ['Python', 'R', 'Machine Learning', 'Deep Learning']}\n",
      "{'role': 'Machine Learning Engineer', 'skills': ['Python', 'TensorFlow', 'PyTorch', 'Scikit-Learn']}\n",
      "{'role': 'Data Engineer', 'skills': ['Python', 'Apache Spark', 'Hadoop', 'SQL']}\n",
      "{'role': 'Business Intelligence Analyst', 'skills': ['Python', 'SQL', 'Tableau', 'Power BI', 'Excel']}\n",
      "{'role': 'Quantitative Analyst', 'skills': ['R', 'Python', 'MATLAB', 'Statistics']}\n",
      "{'role': 'Operations Analyst', 'skills': ['Python', 'SQL', 'Data Visualization', 'Process Improvement']}\n",
      "{'role': 'Database Administrator', 'skills': ['SQL', 'Oracle', 'MySQL', 'Database Management']}\n",
      "{'role': 'AI Engineer', 'skills': ['Python', 'TensorFlow', 'PyTorch', 'Computer Vision']}\n",
      "{'role': 'Statistician', 'skills': ['R', 'SAS', 'Python', 'Statistical Modeling']}\n"
     ]
    }
   ],
   "source": [
    "for job in job_roles:\n",
    "    print(job)"
   ]
  },
  {
   "cell_type": "code",
   "execution_count": 4,
   "id": "c29f58e6",
   "metadata": {},
   "outputs": [
    {
     "name": "stdout",
     "output_type": "stream",
     "text": [
      "['Python', 'SQL', 'Excel']\n",
      "['Python', 'R', 'Machine Learning', 'Deep Learning']\n",
      "['Python', 'TensorFlow', 'PyTorch', 'Scikit-Learn']\n",
      "['Python', 'Apache Spark', 'Hadoop', 'SQL']\n",
      "['Python', 'SQL', 'Tableau', 'Power BI', 'Excel']\n",
      "['R', 'Python', 'MATLAB', 'Statistics']\n",
      "['Python', 'SQL', 'Data Visualization', 'Process Improvement']\n",
      "['SQL', 'Oracle', 'MySQL', 'Database Management']\n",
      "['Python', 'TensorFlow', 'PyTorch', 'Computer Vision']\n",
      "['R', 'SAS', 'Python', 'Statistical Modeling']\n"
     ]
    }
   ],
   "source": [
    "for job in job_roles:\n",
    "    print(job['skills'])"
   ]
  },
  {
   "cell_type": "code",
   "execution_count": 5,
   "id": "c64abb0b",
   "metadata": {},
   "outputs": [
    {
     "name": "stdout",
     "output_type": "stream",
     "text": [
      "Python\n",
      "['Python', 'SQL', 'Excel']\n",
      "SQL\n",
      "['Python', 'SQL', 'Excel']\n",
      "Excel\n",
      "['Python', 'SQL', 'Excel']\n",
      "Python\n",
      "['Python', 'R', 'Machine Learning', 'Deep Learning']\n",
      "SQL\n",
      "['Python', 'R', 'Machine Learning', 'Deep Learning']\n",
      "Excel\n",
      "['Python', 'R', 'Machine Learning', 'Deep Learning']\n",
      "Python\n",
      "['Python', 'TensorFlow', 'PyTorch', 'Scikit-Learn']\n",
      "SQL\n",
      "['Python', 'TensorFlow', 'PyTorch', 'Scikit-Learn']\n",
      "Excel\n",
      "['Python', 'TensorFlow', 'PyTorch', 'Scikit-Learn']\n",
      "Python\n",
      "['Python', 'Apache Spark', 'Hadoop', 'SQL']\n",
      "SQL\n",
      "['Python', 'Apache Spark', 'Hadoop', 'SQL']\n",
      "Excel\n",
      "['Python', 'Apache Spark', 'Hadoop', 'SQL']\n",
      "Python\n",
      "['Python', 'SQL', 'Tableau', 'Power BI', 'Excel']\n",
      "SQL\n",
      "['Python', 'SQL', 'Tableau', 'Power BI', 'Excel']\n",
      "Excel\n",
      "['Python', 'SQL', 'Tableau', 'Power BI', 'Excel']\n",
      "Python\n",
      "['R', 'Python', 'MATLAB', 'Statistics']\n",
      "SQL\n",
      "['R', 'Python', 'MATLAB', 'Statistics']\n",
      "Excel\n",
      "['R', 'Python', 'MATLAB', 'Statistics']\n",
      "Python\n",
      "['Python', 'SQL', 'Data Visualization', 'Process Improvement']\n",
      "SQL\n",
      "['Python', 'SQL', 'Data Visualization', 'Process Improvement']\n",
      "Excel\n",
      "['Python', 'SQL', 'Data Visualization', 'Process Improvement']\n",
      "Python\n",
      "['SQL', 'Oracle', 'MySQL', 'Database Management']\n",
      "SQL\n",
      "['SQL', 'Oracle', 'MySQL', 'Database Management']\n",
      "Excel\n",
      "['SQL', 'Oracle', 'MySQL', 'Database Management']\n",
      "Python\n",
      "['Python', 'TensorFlow', 'PyTorch', 'Computer Vision']\n",
      "SQL\n",
      "['Python', 'TensorFlow', 'PyTorch', 'Computer Vision']\n",
      "Excel\n",
      "['Python', 'TensorFlow', 'PyTorch', 'Computer Vision']\n",
      "Python\n",
      "['R', 'SAS', 'Python', 'Statistical Modeling']\n",
      "SQL\n",
      "['R', 'SAS', 'Python', 'Statistical Modeling']\n",
      "Excel\n",
      "['R', 'SAS', 'Python', 'Statistical Modeling']\n"
     ]
    }
   ],
   "source": [
    "for job in job_roles:\n",
    "    for skill in my_skills:\n",
    "        print(skill)\n",
    "        print(job['skills'])"
   ]
  },
  {
   "cell_type": "markdown",
   "id": "22370731",
   "metadata": {},
   "source": [
    "checking if the my_skills are there in skills"
   ]
  },
  {
   "cell_type": "code",
   "execution_count": 8,
   "id": "a3bf3a7d",
   "metadata": {},
   "outputs": [
    {
     "name": "stdout",
     "output_type": "stream",
     "text": [
      "Python\n",
      "['Python', 'SQL', 'Excel']\n",
      "SQL\n",
      "['Python', 'SQL', 'Excel']\n",
      "Excel\n",
      "['Python', 'SQL', 'Excel']\n",
      "Python\n",
      "['Python', 'R', 'Machine Learning', 'Deep Learning']\n",
      "Python\n",
      "['Python', 'TensorFlow', 'PyTorch', 'Scikit-Learn']\n",
      "Python\n",
      "['Python', 'Apache Spark', 'Hadoop', 'SQL']\n",
      "SQL\n",
      "['Python', 'Apache Spark', 'Hadoop', 'SQL']\n",
      "Python\n",
      "['Python', 'SQL', 'Tableau', 'Power BI', 'Excel']\n",
      "SQL\n",
      "['Python', 'SQL', 'Tableau', 'Power BI', 'Excel']\n",
      "Excel\n",
      "['Python', 'SQL', 'Tableau', 'Power BI', 'Excel']\n",
      "Python\n",
      "['R', 'Python', 'MATLAB', 'Statistics']\n",
      "Python\n",
      "['Python', 'SQL', 'Data Visualization', 'Process Improvement']\n",
      "SQL\n",
      "['Python', 'SQL', 'Data Visualization', 'Process Improvement']\n",
      "SQL\n",
      "['SQL', 'Oracle', 'MySQL', 'Database Management']\n",
      "Python\n",
      "['Python', 'TensorFlow', 'PyTorch', 'Computer Vision']\n",
      "Python\n",
      "['R', 'SAS', 'Python', 'Statistical Modeling']\n"
     ]
    }
   ],
   "source": [
    "for job in job_roles:\n",
    "    for skill in my_skills:\n",
    "        if skill in job['skills']:\n",
    "            print(skill)\n",
    "            print(job['skills'])"
   ]
  },
  {
   "cell_type": "markdown",
   "id": "8e319893",
   "metadata": {},
   "source": [
    "Now insted of what is present in the list let us find out what is there in the list"
   ]
  },
  {
   "cell_type": "code",
   "execution_count": 14,
   "id": "c8c20482",
   "metadata": {},
   "outputs": [
    {
     "data": {
      "text/plain": [
       "['Data Analyst', 'Business Intelligence Analyst']"
      ]
     },
     "execution_count": 14,
     "metadata": {},
     "output_type": "execute_result"
    }
   ],
   "source": [
    "qualified_job_role = []\n",
    "for job in job_roles:\n",
    "    qualified = True\n",
    "    for skill in my_skills:\n",
    "        if skill  not in job['skills']:\n",
    "            qualified = False\n",
    "            break\n",
    "    if qualified :\n",
    "        qualified_job_role.append(job['role'])\n",
    "      \n",
    "qualified_job_role\n"
   ]
  },
  {
   "cell_type": "markdown",
   "id": "aa0346f8",
   "metadata": {},
   "source": [
    "**List Comprehinson in Python**"
   ]
  },
  {
   "cell_type": "code",
   "execution_count": null,
   "id": "74366fef",
   "metadata": {},
   "outputs": [
    {
     "ename": "",
     "evalue": "",
     "output_type": "error",
     "traceback": [
      "\u001b[1;31mThe kernel failed to start as the Python Environment 'Python' is no longer available. Consider selecting another kernel or refreshing the list of Python Environments."
     ]
    }
   ],
   "source": [
    "number = [i for i in range(100)]\n",
    "number"
   ]
  }
 ],
 "metadata": {
  "kernelspec": {
   "display_name": "Python 3",
   "language": "python",
   "name": "python3"
  },
  "language_info": {
   "codemirror_mode": {
    "name": "ipython",
    "version": 3
   },
   "file_extension": ".py",
   "mimetype": "text/x-python",
   "name": "python",
   "nbconvert_exporter": "python",
   "pygments_lexer": "ipython3",
   "version": "3.13.5"
  }
 },
 "nbformat": 4,
 "nbformat_minor": 5
}

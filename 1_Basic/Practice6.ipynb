{
 "cells": [
  {
   "cell_type": "markdown",
   "id": "959971fb",
   "metadata": {},
   "source": [
    "# Practice problem"
   ]
  },
  {
   "cell_type": "markdown",
   "id": "9654a51c",
   "metadata": {},
   "source": [
    "Problem 1"
   ]
  },
  {
   "cell_type": "code",
   "execution_count": 3,
   "id": "8e6cdf3b",
   "metadata": {},
   "outputs": [
    {
     "name": "stdout",
     "output_type": "stream",
     "text": [
      "Avarage =  108000.0\n"
     ]
    }
   ],
   "source": [
    "salaries = [95000, 120000, 105000, 90000, 130000]\n",
    "average_sal = lambda: sum(salaries)/len(salaries)\n",
    "print(\"Avarage = \",average_sal())"
   ]
  },
  {
   "cell_type": "markdown",
   "id": "5660c8a0",
   "metadata": {},
   "source": [
    "Problem 2"
   ]
  },
  {
   "cell_type": "code",
   "execution_count": 6,
   "id": "ec5153d5",
   "metadata": {},
   "outputs": [
    {
     "name": "stdout",
     "output_type": "stream",
     "text": [
      "['Data Scientist', 'Data Engineer', 'Data Analyst']\n"
     ]
    }
   ],
   "source": [
    "job_titles = ['Data Scientist', 'Data Engineer', 'Machine Learning Engineer', 'Data Analyst']\n",
    "data_job = lambda title: \"Data\" in title\n",
    "filter_job = filter(data_job,job_titles)\n",
    "print(list(filter_job))\n"
   ]
  },
  {
   "cell_type": "code",
   "execution_count": 12,
   "id": "d24d3530",
   "metadata": {},
   "outputs": [
    {
     "name": "stdout",
     "output_type": "stream",
     "text": [
      "[{'title': 'Data Scientist', 'skills': ['Python', 'SQL'], 'remote': True}, {'title': 'Machine Learning Engineer', 'skills': ['Python', 'TensorFlow'], 'remote': True}, {'title': 'Software Developer', 'skills': ['Java', 'C++'], 'remote': True}]\n"
     ]
    }
   ],
   "source": [
    "job_postings = [\n",
    "    {'title': 'Data Scientist', 'skills': ['Python', 'SQL'], 'remote': True},\n",
    "    {'title': 'Data Analyst', 'skills': ['Excel', 'SQL'], 'remote': False},\n",
    "    {'title': 'Machine Learning Engineer', 'skills': ['Python', 'TensorFlow'], 'remote': True},\n",
    "    {'title': 'Software Developer', 'skills': ['Java', 'C++'], 'remote': True}\n",
    "]\n",
    "\n",
    "remote_job = lambda job : job[\"remote\"]\n",
    "filter_job = filter(remote_job,job_postings)\n",
    "print(list(filter_job))"
   ]
  },
  {
   "cell_type": "code",
   "execution_count": 2,
   "id": "9e206db7",
   "metadata": {},
   "outputs": [
    {
     "data": {
      "text/plain": [
       "array([2, 3, 4, 5, 6])"
      ]
     },
     "execution_count": 2,
     "metadata": {},
     "output_type": "execute_result"
    }
   ],
   "source": [
    "import numpy as np\n",
    "years = np.array([1,2,3,4,5])\n",
    "\n",
    "yearadd = years+1\n",
    "yearadd\n",
    "\n",
    "# yearsub = years-1\n",
    "# yearsub\n",
    "\n",
    "# yearmul = years*1\n",
    "# yearmul\n",
    "\n",
    "# yeardiv = years/1\n",
    "# yeardiv\n",
    "\n",
    "# #Silicing in numpy array\n",
    "\n",
    "# years[1:3]\n",
    "\n",
    "# #boolean indexing\n",
    "# condition_year = years [years > 2]\n",
    "# condition_year\n",
    "\n",
    "\n"
   ]
  },
  {
   "cell_type": "code",
   "execution_count": 12,
   "id": "e1b0e267",
   "metadata": {},
   "outputs": [
    {
     "name": "stdout",
     "output_type": "stream",
     "text": [
      "60\n",
      "6000\n",
      "[10 30 60]\n",
      "[  10  200 6000]\n"
     ]
    }
   ],
   "source": [
    "n = [10,20,30]\n",
    "n3 = np.sum(n)\n",
    "print(n3)\n",
    "\n",
    "n4 = np.prod(n)\n",
    "print(n4)\n",
    "\n",
    "n5 = np.cumsum(n)\n",
    "print(n5)\n",
    "\n",
    "n6 = np.cumprod(n)\n",
    "print(n6)"
   ]
  },
  {
   "cell_type": "markdown",
   "id": "f2c85296",
   "metadata": {},
   "source": [
    "**NUMpy nan function**"
   ]
  },
  {
   "cell_type": "code",
   "execution_count": 15,
   "id": "3e135a7f",
   "metadata": {},
   "outputs": [
    {
     "name": "stdout",
     "output_type": "stream",
     "text": [
      "[1 2 3 4 5 6 7 8]\n",
      "<class 'float'>\n",
      "22.0\n",
      "3.6666666666666665\n",
      "3.5\n"
     ]
    }
   ],
   "source": [
    "import numpy as n\n",
    "arr1 = n.array([1,2,3,4,5,6,7,8])\n",
    "print(arr1)\n",
    "\n",
    "# testing nan\n",
    "\n",
    "arr2 = n.array([1,2,3,4,5,n.nan,7,n.nan])\n",
    "sum = n.nansum(arr2)\n",
    "print(type(n.nan))\n",
    "print(sum)\n",
    "\n",
    "print(n.nanmean(arr2))\n",
    "print(n.nanmedian(arr2))\n"
   ]
  }
 ],
 "metadata": {
  "kernelspec": {
   "display_name": "Python 3",
   "language": "python",
   "name": "python3"
  },
  "language_info": {
   "codemirror_mode": {
    "name": "ipython",
    "version": 3
   },
   "file_extension": ".py",
   "mimetype": "text/x-python",
   "name": "python",
   "nbconvert_exporter": "python",
   "pygments_lexer": "ipython3",
   "version": "3.13.5"
  }
 },
 "nbformat": 4,
 "nbformat_minor": 5
}

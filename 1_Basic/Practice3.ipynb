{
 "cells": [
  {
   "cell_type": "markdown",
   "id": "92c1b7cc",
   "metadata": {},
   "source": [
    "**List Comprehension**"
   ]
  },
  {
   "cell_type": "code",
   "execution_count": 8,
   "id": "71eb3f30",
   "metadata": {},
   "outputs": [
    {
     "data": {
      "text/plain": [
       "[0, 2, 4, 6, 8, 10]"
      ]
     },
     "execution_count": 8,
     "metadata": {},
     "output_type": "execute_result"
    }
   ],
   "source": [
    "li = [number for number in range(11) if number%2 == 0]\n",
    "li"
   ]
  },
  {
   "cell_type": "markdown",
   "id": "5e79e358",
   "metadata": {},
   "source": [
    "**Bulid in & UserDefined Function**"
   ]
  },
  {
   "cell_type": "code",
   "execution_count": 20,
   "id": "c0b60aa2",
   "metadata": {},
   "outputs": [
    {
     "data": {
      "text/plain": [
       "100"
      ]
     },
     "execution_count": 20,
     "metadata": {},
     "output_type": "execute_result"
    }
   ],
   "source": [
    "n1 = 100\n",
    "n2 = 23\n",
    "l2 = [3,4,2,1,5,8,9,0]\n",
    "sorted(l2)\n",
    "min(n1,n2)\n",
    "max(n1,n2)\n",
    "\n"
   ]
  },
  {
   "cell_type": "code",
   "execution_count": 19,
   "id": "99cd486e",
   "metadata": {},
   "outputs": [
    {
     "data": {
      "text/plain": [
       "30"
      ]
     },
     "execution_count": 19,
     "metadata": {},
     "output_type": "execute_result"
    }
   ],
   "source": [
    "\n",
    "def addition (number1,number2):\n",
    "     number3 = number1+number2\n",
    "     return number3\n",
    "\n",
    "addition(10,20)"
   ]
  },
  {
   "cell_type": "markdown",
   "id": "96132083",
   "metadata": {},
   "source": [
    "**Lambda Functions**"
   ]
  },
  {
   "cell_type": "code",
   "execution_count": 21,
   "id": "ee03e3d2",
   "metadata": {},
   "outputs": [
    {
     "data": {
      "text/plain": [
       "40"
      ]
     },
     "execution_count": 21,
     "metadata": {},
     "output_type": "execute_result"
    }
   ],
   "source": [
    "LA = lambda x,y:x+y\n",
    "result = LA(10,30)\n",
    "result"
   ]
  },
  {
   "cell_type": "code",
   "execution_count": 2,
   "id": "619d6903",
   "metadata": {},
   "outputs": [],
   "source": [
    "jobs_data = [\n",
    "    {'job_title': 'Data Scientist',  'job_skills': ['Python', 'Machine Learning'], 'remote': True},\n",
    "    {'job_title': 'Data Analyst',  'job_skills': ['Excel', 'SQL'], 'remote': False},\n",
    "    {'job_title': 'Machine Learning Engineer', 'job_skills': ['Python', 'TensorFlow', 'Keras'], 'remote': True},\n",
    "    {'job_title': 'Software Developer', 'job_skills': ['Java', 'C++'], 'remote': True},\n",
    "    {'job_title': 'Data Scientist', 'job_skills': ['R', 'Statistics'], 'remote': False}\n",
    "]"
   ]
  },
  {
   "cell_type": "code",
   "execution_count": null,
   "id": "680867d1",
   "metadata": {},
   "outputs": [
    {
     "data": {
      "text/plain": [
       "[{'job_title': 'Software Developer',\n",
       "  'job_skills': ['Java', 'C++'],\n",
       "  'remote': True}]"
      ]
     },
     "execution_count": 4,
     "metadata": {},
     "output_type": "execute_result"
    }
   ],
   "source": [
    "filter_job = lambda job : 'Python' not in job[\"job_skills\"] and job[\"remote\"]\n",
    "\n",
    "python_remote_list = filter(filter_job,jobs_data)\n",
    "for i in python_remote_list:\n",
    "    print(i)\n",
    "\n"
   ]
  },
  {
   "cell_type": "code",
   "execution_count": 10,
   "id": "242a04cf",
   "metadata": {},
   "outputs": [
    {
     "data": {
      "text/plain": [
       "[{'job_title': 'Data Analyst',\n",
       "  'job_skills': ['Excel', 'SQL'],\n",
       "  'remote': False}]"
      ]
     },
     "execution_count": 10,
     "metadata": {},
     "output_type": "execute_result"
    }
   ],
   "source": [
    "\n",
    "sql_list = list(filter(lambda job : 'SQL' in job['job_skills'] and job['remote'] == False,jobs_data))\n",
    "sql_list"
   ]
  },
  {
   "cell_type": "markdown",
   "id": "da98860b",
   "metadata": {},
   "source": [
    "**Map in Lambda**"
   ]
  },
  {
   "cell_type": "code",
   "execution_count": 1,
   "id": "2c62ba00",
   "metadata": {},
   "outputs": [
    {
     "name": "stdout",
     "output_type": "stream",
     "text": [
      "[9, 18, 27, 36, 45, 54, 63, 72, 81, 90]\n"
     ]
    }
   ],
   "source": [
    "l3 = [1,2,3,4,5,6,7,8,9,10]\n",
    "\n",
    "mul = list(map(lambda x : x*9,l3))\n",
    "print(mul)\n"
   ]
  },
  {
   "cell_type": "markdown",
   "id": "1a90a764",
   "metadata": {},
   "source": [
    "**Filter in Lambda**"
   ]
  },
  {
   "cell_type": "code",
   "execution_count": 2,
   "id": "c38bd724",
   "metadata": {},
   "outputs": [
    {
     "name": "stdout",
     "output_type": "stream",
     "text": [
      "[2, 4, 6, 8, 10]\n"
     ]
    }
   ],
   "source": [
    "filter_li = list(filter(lambda x : x%2 == 0, l3))\n",
    "print(filter_li)"
   ]
  },
  {
   "cell_type": "markdown",
   "id": "6dde155d",
   "metadata": {},
   "source": [
    "**Sort in Lambda**"
   ]
  },
  {
   "cell_type": "code",
   "execution_count": 5,
   "id": "1dbd2ccd",
   "metadata": {},
   "outputs": [
    {
     "name": "stdout",
     "output_type": "stream",
     "text": [
      "[1, 2, 3, 4, 5]\n"
     ]
    }
   ],
   "source": [
    "l4 = [5,4,3,2,1]\n",
    "sorted_li = list(sorted(l4,key=lambda x : x))\n",
    "print(sorted_li)"
   ]
  },
  {
   "cell_type": "markdown",
   "id": "d461d69a",
   "metadata": {},
   "source": [
    "**Additional methods in Lambda in Functools library**"
   ]
  },
  {
   "cell_type": "code",
   "execution_count": 7,
   "id": "19c78d59",
   "metadata": {},
   "outputs": [
    {
     "name": "stdout",
     "output_type": "stream",
     "text": [
      "120\n"
     ]
    }
   ],
   "source": [
    "from functools import reduce\n",
    "product = reduce(lambda x,y:x*y,l4)\n",
    "print(product)"
   ]
  }
 ],
 "metadata": {
  "kernelspec": {
   "display_name": "Python 3",
   "language": "python",
   "name": "python3"
  },
  "language_info": {
   "codemirror_mode": {
    "name": "ipython",
    "version": 3
   },
   "file_extension": ".py",
   "mimetype": "text/x-python",
   "name": "python",
   "nbconvert_exporter": "python",
   "pygments_lexer": "ipython3",
   "version": "3.13.5"
  }
 },
 "nbformat": 4,
 "nbformat_minor": 5
}

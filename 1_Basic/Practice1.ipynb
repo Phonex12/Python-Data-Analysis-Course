{
 "cells": [
  {
   "cell_type": "code",
   "execution_count": null,
   "id": "ee74599d",
   "metadata": {},
   "outputs": [
    {
     "name": "stdout",
     "output_type": "stream",
     "text": [
      "This is the best language!!!!\n"
     ]
    }
   ],
   "source": [
    "print(\"This is the best language!!!!\")\n",
    "\n"
   ]
  },
  {
   "cell_type": "code",
   "execution_count": 3,
   "id": "8ff573e5",
   "metadata": {},
   "outputs": [
    {
     "name": "stdout",
     "output_type": "stream",
     "text": [
      "This the second best way to use print function \n"
     ]
    }
   ],
   "source": [
    "my_print_func = print\n",
    "my_print_func(\"This the second best way to use print function \")"
   ]
  },
  {
   "cell_type": "markdown",
   "id": "8f1eff08",
   "metadata": {},
   "source": [
    "**Format Method in Python(Strings)**"
   ]
  },
  {
   "cell_type": "code",
   "execution_count": 1,
   "id": "9701c3f8",
   "metadata": {},
   "outputs": [
    {
     "data": {
      "text/plain": [
       "'Role :Data Analyst ; Skills Required : Python'"
      ]
     },
     "execution_count": 1,
     "metadata": {},
     "output_type": "execute_result"
    }
   ],
   "source": [
    "role = \"Data Analyst\"\n",
    "skill = \"Python\"\n",
    "\"Role :{} ; Skills Required : {}\".format(role,skill)"
   ]
  },
  {
   "cell_type": "markdown",
   "id": "d88cf5a1",
   "metadata": {},
   "source": [
    "**FStrings in Python Strings**"
   ]
  },
  {
   "cell_type": "code",
   "execution_count": 2,
   "id": "64e1b3fe",
   "metadata": {},
   "outputs": [
    {
     "data": {
      "text/plain": [
       "'Role : Data Analyst ; Skills : Python'"
      ]
     },
     "execution_count": 2,
     "metadata": {},
     "output_type": "execute_result"
    }
   ],
   "source": [
    "f\"Role : {role} ; Skills : {skill}\""
   ]
  },
  {
   "cell_type": "markdown",
   "id": "f9217b77",
   "metadata": {},
   "source": [
    "**%Formating in String**"
   ]
  },
  {
   "cell_type": "code",
   "execution_count": 3,
   "id": "fc019066",
   "metadata": {},
   "outputs": [
    {
     "data": {
      "text/plain": [
       "'Role : Data Analyst ; Skills Required : Python'"
      ]
     },
     "execution_count": 3,
     "metadata": {},
     "output_type": "execute_result"
    }
   ],
   "source": [
    "\"Role : %s ; Skills Required : %s\" % (role,skill)"
   ]
  },
  {
   "cell_type": "code",
   "execution_count": 1,
   "id": "cedd3306",
   "metadata": {},
   "outputs": [
    {
     "data": {
      "text/plain": [
       "'a1 = 2000 ; a2 = 1000'"
      ]
     },
     "execution_count": 1,
     "metadata": {},
     "output_type": "execute_result"
    }
   ],
   "source": [
    "a1 = 1000\n",
    "a2 = 2000\n",
    "a1,a2 = a2,a1\n",
    "f\"a1 = {a1} ; a2 = {a2}\"\n"
   ]
  },
  {
   "cell_type": "markdown",
   "id": "bb0696cc",
   "metadata": {},
   "source": [
    "**Conditional Statements**"
   ]
  },
  {
   "cell_type": "markdown",
   "id": "bd090eac",
   "metadata": {},
   "source": [
    "1. if statement\n",
    "2. elif statement\n",
    "3. else statement"
   ]
  },
  {
   "cell_type": "code",
   "execution_count": 4,
   "id": "fffb5e4e",
   "metadata": {},
   "outputs": [
    {
     "name": "stdout",
     "output_type": "stream",
     "text": [
      "You can take the license !!!\n"
     ]
    }
   ],
   "source": [
    "age = 75.67\n",
    "if age >= 18 :\n",
    "    print(\"You can take the license !!!\")\n",
    "elif age < 18:\n",
    "    print(\"you cannot take the license\")\n",
    "else :\n",
    "    print(\"try agian next year\")\n"
   ]
  },
  {
   "cell_type": "markdown",
   "id": "fd09a3e8",
   "metadata": {},
   "source": [
    "**List in Python**"
   ]
  },
  {
   "cell_type": "code",
   "execution_count": 14,
   "id": "ca2a98c7",
   "metadata": {},
   "outputs": [
    {
     "data": {
      "text/plain": [
       "['pallav', 'suijt', 'Tanvi', 'shyam', 'Swarup', 23, 21]"
      ]
     },
     "execution_count": 14,
     "metadata": {},
     "output_type": "execute_result"
    }
   ],
   "source": [
    "l1 = [\"pallav\" , \"suijt\" , \"Tanvi\" , \"shyam\" , \"Swarup\", 23 , 21]\n",
    "l1"
   ]
  },
  {
   "cell_type": "markdown",
   "id": "1a68a29e",
   "metadata": {},
   "source": [
    "**List APPEND()**"
   ]
  },
  {
   "cell_type": "code",
   "execution_count": 11,
   "id": "fa2f1155",
   "metadata": {},
   "outputs": [
    {
     "data": {
      "text/plain": [
       "['pallav', 'Tanvi', 'shyam', 'Swarup', 23, 21, 'Aarti', 'Aarti', 'Aarti']"
      ]
     },
     "execution_count": 11,
     "metadata": {},
     "output_type": "execute_result"
    }
   ],
   "source": [
    "l1.append(\"Aarti\")\n",
    "l1"
   ]
  },
  {
   "cell_type": "markdown",
   "id": "f7bb5294",
   "metadata": {},
   "source": [
    "**List REMOVE()**"
   ]
  },
  {
   "cell_type": "code",
   "execution_count": 15,
   "id": "023e725e",
   "metadata": {},
   "outputs": [
    {
     "name": "stdout",
     "output_type": "stream",
     "text": [
      "['pallav', 'Tanvi', 'shyam', 'Swarup', 23, 21]\n"
     ]
    }
   ],
   "source": [
    "l1.remove(\"suijt\")\n",
    "print(l1)"
   ]
  },
  {
   "cell_type": "markdown",
   "id": "6e77369c",
   "metadata": {},
   "source": [
    "**List Length()**"
   ]
  },
  {
   "cell_type": "code",
   "execution_count": 7,
   "id": "2356f473",
   "metadata": {},
   "outputs": [
    {
     "data": {
      "text/plain": [
       "8"
      ]
     },
     "execution_count": 7,
     "metadata": {},
     "output_type": "execute_result"
    }
   ],
   "source": [
    "len(l1)"
   ]
  },
  {
   "cell_type": "code",
   "execution_count": 12,
   "id": "c6045fbf",
   "metadata": {},
   "outputs": [
    {
     "data": {
      "text/plain": [
       "3"
      ]
     },
     "execution_count": 12,
     "metadata": {},
     "output_type": "execute_result"
    }
   ],
   "source": [
    "l1.count(\"Aarti\")"
   ]
  },
  {
   "cell_type": "markdown",
   "id": "36c0ead5",
   "metadata": {},
   "source": [
    "**Dictonary in python**"
   ]
  },
  {
   "cell_type": "code",
   "execution_count": 20,
   "id": "effd4ea8",
   "metadata": {},
   "outputs": [
    {
     "data": {
      "text/plain": [
       "'Apple'"
      ]
     },
     "execution_count": 20,
     "metadata": {},
     "output_type": "execute_result"
    }
   ],
   "source": [
    "d1 = { 'a' : \"Apple\" , 'b' : \"Ball\" , 'c' : \"Cat\" , 'd' : \"Dog\"}\n",
    "d1['a']"
   ]
  },
  {
   "cell_type": "markdown",
   "id": "3229e90f",
   "metadata": {},
   "source": [
    "values() method"
   ]
  },
  {
   "cell_type": "code",
   "execution_count": 17,
   "id": "3d54fd4d",
   "metadata": {},
   "outputs": [
    {
     "data": {
      "text/plain": [
       "dict_values(['Apple', 'Ball', 'Cat', 'Dog'])"
      ]
     },
     "execution_count": 17,
     "metadata": {},
     "output_type": "execute_result"
    }
   ],
   "source": [
    "d1.values()"
   ]
  },
  {
   "cell_type": "markdown",
   "id": "7cd61411",
   "metadata": {},
   "source": [
    "key method"
   ]
  },
  {
   "cell_type": "code",
   "execution_count": 18,
   "id": "df35be31",
   "metadata": {},
   "outputs": [
    {
     "data": {
      "text/plain": [
       "dict_keys(['a', 'b', 'c', 'd'])"
      ]
     },
     "execution_count": 18,
     "metadata": {},
     "output_type": "execute_result"
    }
   ],
   "source": [
    "d1.keys()"
   ]
  },
  {
   "cell_type": "markdown",
   "id": "8b34064a",
   "metadata": {},
   "source": [
    "Pop method"
   ]
  },
  {
   "cell_type": "code",
   "execution_count": 19,
   "id": "6ed57a88",
   "metadata": {},
   "outputs": [
    {
     "data": {
      "text/plain": [
       "'Apple'"
      ]
     },
     "execution_count": 19,
     "metadata": {},
     "output_type": "execute_result"
    }
   ],
   "source": [
    "d1.pop('a')"
   ]
  },
  {
   "cell_type": "markdown",
   "id": "b2b0ec9d",
   "metadata": {},
   "source": [
    "**Updating a dictonary**"
   ]
  },
  {
   "cell_type": "markdown",
   "id": "6c4d2fdb",
   "metadata": {},
   "source": [
    "Method 1"
   ]
  },
  {
   "cell_type": "code",
   "execution_count": 27,
   "id": "1b4aeef6",
   "metadata": {},
   "outputs": [
    {
     "data": {
      "text/plain": [
       "{'a': 'Apple', 'b': 'Ball', 'c': 'Cat', 'd': 'Dog', 'e': 'elephant'}"
      ]
     },
     "execution_count": 27,
     "metadata": {},
     "output_type": "execute_result"
    }
   ],
   "source": [
    "d1.update({'e' : 'elephant'})\n",
    "d1"
   ]
  },
  {
   "cell_type": "markdown",
   "id": "02289f59",
   "metadata": {},
   "source": [
    "Method 2"
   ]
  },
  {
   "cell_type": "code",
   "execution_count": 30,
   "id": "46becbb6",
   "metadata": {},
   "outputs": [
    {
     "data": {
      "text/plain": [
       "{'a': 'Apple',\n",
       " 'b': 'Ball',\n",
       " 'c': 'Cat',\n",
       " 'd': 'Dog',\n",
       " 'e': 'elephant',\n",
       " 'f': 'frog'}"
      ]
     },
     "execution_count": 30,
     "metadata": {},
     "output_type": "execute_result"
    }
   ],
   "source": [
    "d1['f'] = 'frog'\n",
    "d1"
   ]
  },
  {
   "cell_type": "markdown",
   "id": "54328410",
   "metadata": {},
   "source": [
    "**Dictonary are Mutable**"
   ]
  },
  {
   "cell_type": "markdown",
   "id": "bf2688af",
   "metadata": {},
   "source": [
    "but only the  values are mutable the keys are not mutable"
   ]
  },
  {
   "cell_type": "code",
   "execution_count": 39,
   "id": "741e009a",
   "metadata": {},
   "outputs": [
    {
     "data": {
      "text/plain": [
       "{'a': 'Alphabet',\n",
       " 'b': 'Ball',\n",
       " 'c': 'Cat',\n",
       " 'd': 'Dog',\n",
       " 'e': 'elephant',\n",
       " 'f': 'frog',\n",
       " 'x': 'Alphabet'}"
      ]
     },
     "execution_count": 39,
     "metadata": {},
     "output_type": "execute_result"
    }
   ],
   "source": [
    "d1['a'] = 'Alphabet'\n",
    "d1"
   ]
  },
  {
   "cell_type": "code",
   "execution_count": 41,
   "id": "52d97b68",
   "metadata": {},
   "outputs": [
    {
     "data": {
      "text/plain": [
       "{'a': 'Alphabet',\n",
       " 'b': 'Ball',\n",
       " 'c': 'Cat',\n",
       " 'd': 'Dog',\n",
       " 'e': 'elephant',\n",
       " 'f': 'frog'}"
      ]
     },
     "execution_count": 41,
     "metadata": {},
     "output_type": "execute_result"
    }
   ],
   "source": [
    "#if we do this it will throw an error\n",
    "d1.pop('x')\n",
    "d1"
   ]
  },
  {
   "cell_type": "markdown",
   "id": "86d23e76",
   "metadata": {},
   "source": [
    "**Join Method in String**"
   ]
  },
  {
   "cell_type": "code",
   "execution_count": 2,
   "id": "773040e3",
   "metadata": {},
   "outputs": [
    {
     "name": "stdout",
     "output_type": "stream",
     "text": [
      "Role : Data Analyst, Skill Required : python,Sql\n"
     ]
    }
   ],
   "source": [
    "role = \"Data Analyst\"\n",
    "s1 = [\"python\" , \"Sql\"]\n",
    "print(\"Role : \"+ role + \", Skill Required : \"+ ','.join(s1))"
   ]
  },
  {
   "cell_type": "code",
   "execution_count": 3,
   "id": "cb0e5218",
   "metadata": {},
   "outputs": [
    {
     "name": "stdout",
     "output_type": "stream",
     "text": [
      "Numbers :  1,2,3,4,5,6,7,8,9\n"
     ]
    }
   ],
   "source": [
    "s2 = \"123456789\"\n",
    "print(\"Numbers : \" , ','.join(s2))"
   ]
  },
  {
   "cell_type": "markdown",
   "id": "5efd16fa",
   "metadata": {},
   "source": [
    "**Conditional Statements  & Loops** "
   ]
  },
  {
   "cell_type": "markdown",
   "id": "9115109a",
   "metadata": {},
   "source": [
    "1. what is a conditional Statement ??\n",
    "2. what are types of conditional statements ??\n",
    "3. what are loops ??\n",
    "4. what are loop control statements ??\n"
   ]
  },
  {
   "cell_type": "markdown",
   "id": "48772d0a",
   "metadata": {},
   "source": [
    "Indentation : Indentation in Python is the whitespace (spaces or tabs) that you put at the beginning of a code line. It is a crucial part of the Python syntax and is used to define code blocks. Unlike other programming languages that use curly braces {} to define code blocks, Python uses indentation to group statements together.\n",
    "\n"
   ]
  },
  {
   "cell_type": "markdown",
   "id": "05c0f770",
   "metadata": {},
   "source": [
    "**##Conditional Statements##**"
   ]
  },
  {
   "cell_type": "markdown",
   "id": "4e2bc550",
   "metadata": {},
   "source": [
    "1. if \n",
    "2. if else\n",
    "3. if-elif-else\n",
    "4. nested if-else"
   ]
  },
  {
   "cell_type": "markdown",
   "id": "c98879d5",
   "metadata": {},
   "source": [
    "Syntax : \n",
    "1.          if condition :\n",
    "2.              statements\n"
   ]
  },
  {
   "cell_type": "code",
   "execution_count": 3,
   "id": "87ca69d4",
   "metadata": {},
   "outputs": [
    {
     "name": "stdout",
     "output_type": "stream",
     "text": [
      "condition Statisfy!!\n"
     ]
    }
   ],
   "source": [
    "if 10>2 :\n",
    "    print(\"condition Statisfy!!\")\n",
    "    "
   ]
  },
  {
   "cell_type": "markdown",
   "id": "e0ccb6c0",
   "metadata": {},
   "source": [
    "2. if-else statements"
   ]
  },
  {
   "cell_type": "markdown",
   "id": "5764a88a",
   "metadata": {},
   "source": [
    "1. if condition :\n",
    "2.                statement 1\n",
    "3. else :\n",
    "4.                statement 2\n"
   ]
  },
  {
   "cell_type": "code",
   "execution_count": 4,
   "id": "8ddf8f5f",
   "metadata": {},
   "outputs": [
    {
     "name": "stdout",
     "output_type": "stream",
     "text": [
      "Number is Even\n"
     ]
    }
   ],
   "source": [
    "#Even odd program\n",
    "\n",
    "number = 18\n",
    "if number%2 == 0 :\n",
    "    print(\"Number is Even\")\n",
    "else :\n",
    "    print(\"Number is odd\")        "
   ]
  },
  {
   "cell_type": "code",
   "execution_count": 7,
   "id": "7c556dc6",
   "metadata": {},
   "outputs": [
    {
     "name": "stdout",
     "output_type": "stream",
     "text": [
      "you cannot drive !!!\n"
     ]
    }
   ],
   "source": [
    "age = int(input(\"Enter your age : \"))\n",
    "if age >= 18 :\n",
    "    print(\"you can drive !!!\")\n",
    "else :\n",
    "    print(\"you cannot drive !!!\")\n",
    "\n",
    "\n"
   ]
  },
  {
   "cell_type": "code",
   "execution_count": 11,
   "id": "79862014",
   "metadata": {},
   "outputs": [
    {
     "name": "stdout",
     "output_type": "stream",
     "text": [
      "Welcome to instagram\n"
     ]
    }
   ],
   "source": [
    "username = \"Pallav\"\n",
    "password = \"1234\"\n",
    "\n",
    "U_user = input(\"Enter Username : \")\n",
    "U_pass = input(\"Enter your password : \")\n",
    "\n",
    "if U_user == username and U_pass == password :\n",
    "    print(\"Welcome to instagram\")\n",
    "else : \n",
    "    print(\"Invalid username and password !!\")\n"
   ]
  },
  {
   "cell_type": "markdown",
   "id": "4026d057",
   "metadata": {},
   "source": [
    "3. if-elif-else statements"
   ]
  },
  {
   "cell_type": "code",
   "execution_count": 15,
   "id": "d992a77d",
   "metadata": {},
   "outputs": [
    {
     "name": "stdout",
     "output_type": "stream",
     "text": [
      "Enter vaild marks !!! \n"
     ]
    }
   ],
   "source": [
    "marks = int(input(\"Enter your marks : \"))\n",
    "if marks > 80 and marks < 100 : \n",
    "    print(\"Grade : A\")\n",
    "elif marks > 60 and marks < 79:\n",
    "    print(\"Grade : B\")\n",
    "elif marks >35 and marks < 59:\n",
    "    print(\"Grade : C\")\n",
    "elif marks < 35 :\n",
    "    print(\"Grade : fail\")\n",
    "else :\n",
    "    print(\"Enter vaild marks !!! \")\n"
   ]
  },
  {
   "cell_type": "markdown",
   "id": "eb5fce15",
   "metadata": {},
   "source": [
    "Nested if Statement"
   ]
  },
  {
   "cell_type": "markdown",
   "id": "2d00e90c",
   "metadata": {},
   "source": [
    "An if statement in another if statement"
   ]
  },
  {
   "cell_type": "code",
   "execution_count": 21,
   "id": "92674109",
   "metadata": {},
   "outputs": [
    {
     "name": "stdout",
     "output_type": "stream",
     "text": [
      "You cannot donate blood(Age not sufficient)\n"
     ]
    }
   ],
   "source": [
    "\n",
    "age = int(input(\"Enter your age : \"))\n",
    "\n",
    "\n",
    "if age >= 18:\n",
    "    weight = int(input(\"Enter your weight\"))\n",
    "    if weight >= 40:\n",
    "        bg = input(\"Enter the blood group : \")\n",
    "        if bg == \"A\" or \"B\" or \"B-\" or \"O\":\n",
    "            print(\"Thanks for donating !!\")\n",
    "        else:\n",
    "            print(\"Enter valid input!!!\")\n",
    "    else:\n",
    "        print(\"You cannot donate blood(Weight not meet the reqirements)!!\")\n",
    "else:\n",
    "    print(\"You cannot donate blood(Age not sufficient)\")\n",
    "  "
   ]
  },
  {
   "cell_type": "code",
   "execution_count": 2,
   "id": "11a0cbc4",
   "metadata": {},
   "outputs": [],
   "source": [
    "d1 = {\n",
    "    \"Name \" : \"Pallav\",\n",
    "    \"Roll no\" : \"1234\",\n",
    "    \"Class \" : \"IV\",\n",
    "    \"Section \" : \"A\" \n",
    "}"
   ]
  },
  {
   "cell_type": "code",
   "execution_count": null,
   "id": "fa7e48a1",
   "metadata": {},
   "outputs": [
    {
     "name": "stdout",
     "output_type": "stream",
     "text": [
      "Name \n",
      "Roll no\n",
      "Class \n",
      "Section \n"
     ]
    }
   ],
   "source": [
    "for k in d1.keys():\n",
    "    print(k)\n"
   ]
  },
  {
   "cell_type": "code",
   "execution_count": 4,
   "id": "dcc9e4b9",
   "metadata": {},
   "outputs": [
    {
     "name": "stdout",
     "output_type": "stream",
     "text": [
      "Pallav\n",
      "1234\n",
      "IV\n",
      "A\n"
     ]
    }
   ],
   "source": [
    "for v in d1.values() :\n",
    "    print(v)"
   ]
  },
  {
   "cell_type": "code",
   "execution_count": 6,
   "id": "69ab8455",
   "metadata": {},
   "outputs": [
    {
     "name": "stdout",
     "output_type": "stream",
     "text": [
      "Name  : Pallav\n",
      "Roll no : 1234\n",
      "Class  : IV\n",
      "Section  : A\n"
     ]
    }
   ],
   "source": [
    "for k,v in d1.items() :\n",
    "    print(k + \" : \" + v)"
   ]
  },
  {
   "cell_type": "code",
   "execution_count": 29,
   "id": "57504157",
   "metadata": {},
   "outputs": [
    {
     "name": "stdout",
     "output_type": "stream",
     "text": [
      "1\n",
      "6\n",
      "0\n"
     ]
    }
   ],
   "source": [
    "list2 = [\"pallav\",\"Sujit\",\"Shyam\",\"Arnav\",\"Radheya\",\"bhushan\",\"pallav\"]\n",
    "print(l2.count(\"pallav\"))\n",
    "print(len(l2))\n",
    "print(l2.index(\"Sujit\"))"
   ]
  },
  {
   "cell_type": "code",
   "execution_count": 7,
   "id": "3cffe31f",
   "metadata": {},
   "outputs": [
    {
     "name": "stdout",
     "output_type": "stream",
     "text": [
      "Pallav\n",
      "@gmail.com\n"
     ]
    }
   ],
   "source": [
    "email = \"Pallav@gmail.com\"\n",
    "i = email.index(\"@\")\n",
    "name = email[:i]\n",
    "domain = email[i:]\n",
    "print(name)\n",
    "print(domain)\n",
    "\n",
    "\n"
   ]
  },
  {
   "cell_type": "code",
   "execution_count": 30,
   "id": "1696784f",
   "metadata": {},
   "outputs": [
    {
     "data": {
      "text/plain": [
       "['pallav', 'Sujit', 'tanvi', 'Murli']"
      ]
     },
     "execution_count": 30,
     "metadata": {},
     "output_type": "execute_result"
    }
   ],
   "source": [
    "list2\n",
    "list2.pop()\n",
    "list2.pop()\n",
    "list2.pop()\n",
    "list2.pop()\n",
    "list2.pop()\n",
    "list2.append(\"tanvi\")\n",
    "list2.append(\"Murli\")\n",
    "list2\n",
    "\n"
   ]
  },
  {
   "cell_type": "code",
   "execution_count": 31,
   "id": "dc892880",
   "metadata": {},
   "outputs": [
    {
     "name": "stdout",
     "output_type": "stream",
     "text": [
      "pallav\n",
      "['Sujit', 'tanvi', 'Murli']\n"
     ]
    }
   ],
   "source": [
    "l1,*l2 = list2\n",
    "print(l1)\n",
    "print(l2)\n"
   ]
  }
 ],
 "metadata": {
  "kernelspec": {
   "display_name": "Python 3",
   "language": "python",
   "name": "python3"
  },
  "language_info": {
   "codemirror_mode": {
    "name": "ipython",
    "version": 3
   },
   "file_extension": ".py",
   "mimetype": "text/x-python",
   "name": "python",
   "nbconvert_exporter": "python",
   "pygments_lexer": "ipython3",
   "version": "3.13.3"
  }
 },
 "nbformat": 4,
 "nbformat_minor": 5
}

{
 "cells": [
  {
   "cell_type": "markdown",
   "id": "005c3cef",
   "metadata": {},
   "source": [
    "## Applying Functions to DataFrame"
   ]
  },
  {
   "cell_type": "code",
   "execution_count": 10,
   "id": "7e4166f1",
   "metadata": {},
   "outputs": [],
   "source": [
    "import pandas as pd \n",
    "import numpy as np\n",
    "df = pd.read_csv('D:\\\\python Programming\\\\DataSets\\\\data_jobs.csv')"
   ]
  },
  {
   "cell_type": "code",
   "execution_count": 11,
   "id": "5b3f64fe",
   "metadata": {},
   "outputs": [
    {
     "data": {
      "text/plain": [
       "(785741, 17)"
      ]
     },
     "execution_count": 11,
     "metadata": {},
     "output_type": "execute_result"
    }
   ],
   "source": [
    "df.shape"
   ]
  },
  {
   "cell_type": "markdown",
   "id": "45f62dbb",
   "metadata": {},
   "source": [
    "**Creating a function**"
   ]
  },
  {
   "cell_type": "code",
   "execution_count": 12,
   "id": "86c6ff8a",
   "metadata": {},
   "outputs": [],
   "source": [
    "def projected_sal(row):\n",
    "    if 'Senior' in row['job_title_short']:\n",
    "        return 0.5*row['salary_year_avg']\n",
    "    else :\n",
    "        return 0.2*row['salary_year_avg']"
   ]
  },
  {
   "cell_type": "markdown",
   "id": "e4dc8921",
   "metadata": {},
   "source": [
    "**Applying the Function to the projected_sal**"
   ]
  },
  {
   "cell_type": "code",
   "execution_count": 13,
   "id": "8a9b472a",
   "metadata": {},
   "outputs": [],
   "source": [
    "df['update_avg_Salary'] = df.apply(projected_sal,axis=1)"
   ]
  },
  {
   "cell_type": "code",
   "execution_count": 16,
   "id": "b051f3e5",
   "metadata": {},
   "outputs": [
    {
     "data": {
      "text/plain": [
       "28        21900.0\n",
       "77        28000.0\n",
       "92        24000.0\n",
       "100       45644.4\n",
       "109       17800.0\n",
       "           ...   \n",
       "785624    27843.2\n",
       "785641    30000.0\n",
       "785648    44375.0\n",
       "785682    31500.0\n",
       "785692    31500.0\n",
       "Name: update_avg_Salary, Length: 22003, dtype: float64"
      ]
     },
     "execution_count": 16,
     "metadata": {},
     "output_type": "execute_result"
    }
   ],
   "source": [
    "df['update_avg_Salary'].dropna()"
   ]
  },
  {
   "cell_type": "markdown",
   "id": "409531cf",
   "metadata": {},
   "source": [
    "## **Apply the lambda function to the dataframe** "
   ]
  },
  {
   "cell_type": "code",
   "execution_count": 17,
   "id": "ed4c37e8",
   "metadata": {},
   "outputs": [
    {
     "name": "stdout",
     "output_type": "stream",
     "text": [
      "<class 'pandas.core.frame.DataFrame'>\n",
      "RangeIndex: 785741 entries, 0 to 785740\n",
      "Data columns (total 18 columns):\n",
      " #   Column                 Non-Null Count   Dtype  \n",
      "---  ------                 --------------   -----  \n",
      " 0   job_title_short        785741 non-null  object \n",
      " 1   job_title              785740 non-null  object \n",
      " 2   job_location           784696 non-null  object \n",
      " 3   job_via                785733 non-null  object \n",
      " 4   job_schedule_type      773074 non-null  object \n",
      " 5   job_work_from_home     785741 non-null  bool   \n",
      " 6   search_location        785741 non-null  object \n",
      " 7   job_posted_date        785741 non-null  object \n",
      " 8   job_no_degree_mention  785741 non-null  bool   \n",
      " 9   job_health_insurance   785741 non-null  bool   \n",
      " 10  job_country            785692 non-null  object \n",
      " 11  salary_rate            33067 non-null   object \n",
      " 12  salary_year_avg        22003 non-null   float64\n",
      " 13  salary_hour_avg        10662 non-null   float64\n",
      " 14  company_name           785723 non-null  object \n",
      " 15  job_skills             668704 non-null  object \n",
      " 16  job_type_skills        668704 non-null  object \n",
      " 17  update_avg_Salary      22003 non-null   float64\n",
      "dtypes: bool(3), float64(3), object(12)\n",
      "memory usage: 92.2+ MB\n"
     ]
    }
   ],
   "source": [
    "df.info()"
   ]
  },
  {
   "cell_type": "markdown",
   "id": "f11820cc",
   "metadata": {},
   "source": [
    "importing ast"
   ]
  },
  {
   "cell_type": "code",
   "execution_count": 18,
   "id": "d0d1a4f0",
   "metadata": {},
   "outputs": [],
   "source": [
    "import ast"
   ]
  },
  {
   "cell_type": "code",
   "execution_count": 21,
   "id": "a3d8e954",
   "metadata": {},
   "outputs": [],
   "source": [
    "df['job_skills'] = df['job_skills'].apply(lambda x:ast.literal_eval(x) if pd.notna(x) else x)"
   ]
  },
  {
   "cell_type": "code",
   "execution_count": 22,
   "id": "7119acee",
   "metadata": {},
   "outputs": [
    {
     "data": {
      "text/plain": [
       "0                                                       NaN\n",
       "1                [r, python, sql, nosql, power bi, tableau]\n",
       "2         [python, sql, c#, azure, airflow, dax, docker,...\n",
       "3         [python, c++, java, matlab, aws, tensorflow, k...\n",
       "4         [bash, python, oracle, aws, ansible, puppet, j...\n",
       "                                ...                        \n",
       "785736    [bash, python, perl, linux, unix, kubernetes, ...\n",
       "785737                               [sas, sas, sql, excel]\n",
       "785738                                  [powerpoint, excel]\n",
       "785739    [python, go, nosql, sql, mongo, shell, mysql, ...\n",
       "785740                                          [aws, flow]\n",
       "Name: job_skills, Length: 785741, dtype: object"
      ]
     },
     "execution_count": 22,
     "metadata": {},
     "output_type": "execute_result"
    }
   ],
   "source": [
    "df['job_skills']"
   ]
  }
 ],
 "metadata": {
  "kernelspec": {
   "display_name": "Python 3",
   "language": "python",
   "name": "python3"
  },
  "language_info": {
   "codemirror_mode": {
    "name": "ipython",
    "version": 3
   },
   "file_extension": ".py",
   "mimetype": "text/x-python",
   "name": "python",
   "nbconvert_exporter": "python",
   "pygments_lexer": "ipython3",
   "version": "3.13.5"
  }
 },
 "nbformat": 4,
 "nbformat_minor": 5
}

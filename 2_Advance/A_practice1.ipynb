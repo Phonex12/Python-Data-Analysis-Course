{
 "cells": [
  {
   "cell_type": "markdown",
   "id": "970205c2",
   "metadata": {},
   "source": [
    "# Practice 1"
   ]
  },
  {
   "cell_type": "markdown",
   "id": "2968da5a",
   "metadata": {},
   "source": [
    "**loc[] : it is used to access the specific column by just writing the name insted of the index values in it**"
   ]
  },
  {
   "cell_type": "code",
   "execution_count": 9,
   "id": "36f580c0",
   "metadata": {},
   "outputs": [],
   "source": [
    "import pandas as pd\n",
    "from matplotlib import pyplot as plt\n",
    "# Creating a dataframe\n",
    "df = pd.read_csv('D:\\\\python Programming\\\\DataSets\\\\data_jobs.csv')\n",
    "# Data Cleaning\n",
    "df['job_posted_date'] = pd.to_datetime(df['job_posted_date'])    "
   ]
  },
  {
   "cell_type": "code",
   "execution_count": 10,
   "id": "650254c5",
   "metadata": {},
   "outputs": [
    {
     "data": {
      "text/html": [
       "<div>\n",
       "<style scoped>\n",
       "    .dataframe tbody tr th:only-of-type {\n",
       "        vertical-align: middle;\n",
       "    }\n",
       "\n",
       "    .dataframe tbody tr th {\n",
       "        vertical-align: top;\n",
       "    }\n",
       "\n",
       "    .dataframe thead th {\n",
       "        text-align: right;\n",
       "    }\n",
       "</style>\n",
       "<table border=\"1\" class=\"dataframe\">\n",
       "  <thead>\n",
       "    <tr style=\"text-align: right;\">\n",
       "      <th></th>\n",
       "      <th>salary_year_avg</th>\n",
       "      <th>salary_hour_avg</th>\n",
       "    </tr>\n",
       "  </thead>\n",
       "  <tbody>\n",
       "    <tr>\n",
       "      <th>28</th>\n",
       "      <td>109500.0</td>\n",
       "      <td>NaN</td>\n",
       "    </tr>\n",
       "    <tr>\n",
       "      <th>77</th>\n",
       "      <td>140000.0</td>\n",
       "      <td>NaN</td>\n",
       "    </tr>\n",
       "    <tr>\n",
       "      <th>92</th>\n",
       "      <td>120000.0</td>\n",
       "      <td>NaN</td>\n",
       "    </tr>\n",
       "    <tr>\n",
       "      <th>100</th>\n",
       "      <td>228222.0</td>\n",
       "      <td>NaN</td>\n",
       "    </tr>\n",
       "    <tr>\n",
       "      <th>109</th>\n",
       "      <td>89000.0</td>\n",
       "      <td>NaN</td>\n",
       "    </tr>\n",
       "    <tr>\n",
       "      <th>...</th>\n",
       "      <td>...</td>\n",
       "      <td>...</td>\n",
       "    </tr>\n",
       "    <tr>\n",
       "      <th>785624</th>\n",
       "      <td>139216.0</td>\n",
       "      <td>NaN</td>\n",
       "    </tr>\n",
       "    <tr>\n",
       "      <th>785641</th>\n",
       "      <td>150000.0</td>\n",
       "      <td>NaN</td>\n",
       "    </tr>\n",
       "    <tr>\n",
       "      <th>785648</th>\n",
       "      <td>221875.0</td>\n",
       "      <td>NaN</td>\n",
       "    </tr>\n",
       "    <tr>\n",
       "      <th>785682</th>\n",
       "      <td>157500.0</td>\n",
       "      <td>NaN</td>\n",
       "    </tr>\n",
       "    <tr>\n",
       "      <th>785692</th>\n",
       "      <td>157500.0</td>\n",
       "      <td>NaN</td>\n",
       "    </tr>\n",
       "  </tbody>\n",
       "</table>\n",
       "<p>22003 rows × 2 columns</p>\n",
       "</div>"
      ],
      "text/plain": [
       "        salary_year_avg  salary_hour_avg\n",
       "28             109500.0              NaN\n",
       "77             140000.0              NaN\n",
       "92             120000.0              NaN\n",
       "100            228222.0              NaN\n",
       "109             89000.0              NaN\n",
       "...                 ...              ...\n",
       "785624         139216.0              NaN\n",
       "785641         150000.0              NaN\n",
       "785648         221875.0              NaN\n",
       "785682         157500.0              NaN\n",
       "785692         157500.0              NaN\n",
       "\n",
       "[22003 rows x 2 columns]"
      ]
     },
     "execution_count": 10,
     "metadata": {},
     "output_type": "execute_result"
    }
   ],
   "source": [
    "df.loc[:,'salary_year_avg':'salary_hour_avg'].dropna(subset = 'salary_year_avg')"
   ]
  },
  {
   "cell_type": "markdown",
   "id": "2d7372c3",
   "metadata": {},
   "source": [
    "**fillna() : This Method is used to fill values in the nan cells of the data**"
   ]
  },
  {
   "cell_type": "code",
   "execution_count": 13,
   "id": "00314bd2",
   "metadata": {},
   "outputs": [],
   "source": [
    "df_filled = df\n",
    "\n"
   ]
  },
  {
   "cell_type": "code",
   "execution_count": 17,
   "id": "e159edb9",
   "metadata": {},
   "outputs": [],
   "source": [
    "salary_year_median = df['salary_year_avg'].median()\n",
    "df_filled['salary_year_avg'] = df_filled['salary_year_avg'].fillna(salary_year_median)"
   ]
  },
  {
   "cell_type": "markdown",
   "id": "57551605",
   "metadata": {},
   "source": [
    "**drop_duplicate() : This method is used to drop out duplicated values**"
   ]
  },
  {
   "cell_type": "code",
   "execution_count": 20,
   "id": "386bcafe",
   "metadata": {},
   "outputs": [
    {
     "name": "stdout",
     "output_type": "stream",
     "text": [
      "Number of rows in Original Frame :  785741\n",
      "Number of rows in unique Frame :  785640\n",
      "Number of colunm dropped :  101\n"
     ]
    }
   ],
   "source": [
    "df_unique = df_filled\n",
    "df_unique = df_unique.drop_duplicates()\n",
    "print('Number of rows in Original Frame : ',len(df_filled))\n",
    "print('Number of rows in unique Frame : ',len(df_unique))\n",
    "print('Number of colunm dropped : ',len(df_filled) - len(df_unique))\n"
   ]
  },
  {
   "cell_type": "markdown",
   "id": "34c0b801",
   "metadata": {},
   "source": [
    "**The drop_duplicates() can also have some parameters as like colunm name as Subset**"
   ]
  },
  {
   "cell_type": "code",
   "execution_count": 22,
   "id": "2f4b1b68",
   "metadata": {},
   "outputs": [
    {
     "name": "stdout",
     "output_type": "stream",
     "text": [
      "Number of rows in Original Frame :  785741\n",
      "Number of rows in unique Frame :  508042\n",
      "Number of colunm dropped :  277699\n"
     ]
    }
   ],
   "source": [
    "df_unique = df_unique.drop_duplicates(subset = ['job_title','company_name'])\n",
    "print('Number of rows in Original Frame : ',len(df_filled))\n",
    "print('Number of rows in unique Frame : ',len(df_unique))\n",
    "print('Number of colunm dropped : ',len(df_filled) - len(df_unique))"
   ]
  },
  {
   "cell_type": "markdown",
   "id": "3668f17a",
   "metadata": {},
   "source": [
    "**sample(x,random_state = 42) : it is used to provide us the rows which gives us more idea about the data i.e it returns the random index number of the rows**"
   ]
  },
  {
   "cell_type": "code",
   "execution_count": 26,
   "id": "d9d8df83",
   "metadata": {},
   "outputs": [
    {
     "data": {
      "text/html": [
       "<div>\n",
       "<style scoped>\n",
       "    .dataframe tbody tr th:only-of-type {\n",
       "        vertical-align: middle;\n",
       "    }\n",
       "\n",
       "    .dataframe tbody tr th {\n",
       "        vertical-align: top;\n",
       "    }\n",
       "\n",
       "    .dataframe thead th {\n",
       "        text-align: right;\n",
       "    }\n",
       "</style>\n",
       "<table border=\"1\" class=\"dataframe\">\n",
       "  <thead>\n",
       "    <tr style=\"text-align: right;\">\n",
       "      <th></th>\n",
       "      <th>job_title_short</th>\n",
       "      <th>job_title</th>\n",
       "      <th>job_location</th>\n",
       "      <th>job_via</th>\n",
       "      <th>job_schedule_type</th>\n",
       "      <th>job_work_from_home</th>\n",
       "      <th>search_location</th>\n",
       "      <th>job_posted_date</th>\n",
       "      <th>job_no_degree_mention</th>\n",
       "      <th>job_health_insurance</th>\n",
       "      <th>job_country</th>\n",
       "      <th>salary_rate</th>\n",
       "      <th>salary_year_avg</th>\n",
       "      <th>salary_hour_avg</th>\n",
       "      <th>company_name</th>\n",
       "      <th>job_skills</th>\n",
       "      <th>job_type_skills</th>\n",
       "    </tr>\n",
       "  </thead>\n",
       "  <tbody>\n",
       "    <tr>\n",
       "      <th>502901</th>\n",
       "      <td>Senior Data Engineer</td>\n",
       "      <td>Senior Data Engineer</td>\n",
       "      <td>St Paul, MN</td>\n",
       "      <td>via BeBee</td>\n",
       "      <td>Full-time</td>\n",
       "      <td>False</td>\n",
       "      <td>Florida, United States</td>\n",
       "      <td>2023-12-17 11:09:06</td>\n",
       "      <td>False</td>\n",
       "      <td>False</td>\n",
       "      <td>United States</td>\n",
       "      <td>NaN</td>\n",
       "      <td>115000.0</td>\n",
       "      <td>NaN</td>\n",
       "      <td>ManpowerGroup</td>\n",
       "      <td>['sql', 'azure', 'git']</td>\n",
       "      <td>{'cloud': ['azure'], 'other': ['git'], 'progra...</td>\n",
       "    </tr>\n",
       "    <tr>\n",
       "      <th>406337</th>\n",
       "      <td>Senior Data Scientist</td>\n",
       "      <td>Senior Analytics Engineer</td>\n",
       "      <td>London, UK</td>\n",
       "      <td>via LinkedIn</td>\n",
       "      <td>Full-time</td>\n",
       "      <td>False</td>\n",
       "      <td>United Kingdom</td>\n",
       "      <td>2023-10-06 16:09:56</td>\n",
       "      <td>False</td>\n",
       "      <td>False</td>\n",
       "      <td>United Kingdom</td>\n",
       "      <td>NaN</td>\n",
       "      <td>115000.0</td>\n",
       "      <td>NaN</td>\n",
       "      <td>Harnham</td>\n",
       "      <td>['sql', 'python', 'bigquery', 'snowflake', 'lo...</td>\n",
       "      <td>{'analyst_tools': ['looker'], 'cloud': ['bigqu...</td>\n",
       "    </tr>\n",
       "    <tr>\n",
       "      <th>659951</th>\n",
       "      <td>Data Engineer</td>\n",
       "      <td>Data Engineer</td>\n",
       "      <td>Newcastle upon Tyne, UK</td>\n",
       "      <td>via Indeed</td>\n",
       "      <td>Full-time</td>\n",
       "      <td>False</td>\n",
       "      <td>United Kingdom</td>\n",
       "      <td>2023-09-06 10:11:25</td>\n",
       "      <td>True</td>\n",
       "      <td>False</td>\n",
       "      <td>United Kingdom</td>\n",
       "      <td>NaN</td>\n",
       "      <td>115000.0</td>\n",
       "      <td>NaN</td>\n",
       "      <td>Morgan King</td>\n",
       "      <td>NaN</td>\n",
       "      <td>NaN</td>\n",
       "    </tr>\n",
       "    <tr>\n",
       "      <th>541593</th>\n",
       "      <td>Data Analyst</td>\n",
       "      <td>Data Analyst</td>\n",
       "      <td>Malta</td>\n",
       "      <td>via Trabajo.org</td>\n",
       "      <td>Full-time</td>\n",
       "      <td>False</td>\n",
       "      <td>Malta</td>\n",
       "      <td>2023-02-14 21:14:18</td>\n",
       "      <td>True</td>\n",
       "      <td>False</td>\n",
       "      <td>Malta</td>\n",
       "      <td>NaN</td>\n",
       "      <td>115000.0</td>\n",
       "      <td>NaN</td>\n",
       "      <td>Konnekt</td>\n",
       "      <td>['jira']</td>\n",
       "      <td>{'async': ['jira']}</td>\n",
       "    </tr>\n",
       "    <tr>\n",
       "      <th>425158</th>\n",
       "      <td>Senior Data Engineer</td>\n",
       "      <td>Senior Data Engineer. Job in Amsterdam NBC4i Jobs</td>\n",
       "      <td>Amsterdam, Netherlands</td>\n",
       "      <td>via NBC4i Jobs</td>\n",
       "      <td>Full-time</td>\n",
       "      <td>False</td>\n",
       "      <td>Netherlands</td>\n",
       "      <td>2023-06-19 16:34:30</td>\n",
       "      <td>True</td>\n",
       "      <td>False</td>\n",
       "      <td>Netherlands</td>\n",
       "      <td>NaN</td>\n",
       "      <td>115000.0</td>\n",
       "      <td>NaN</td>\n",
       "      <td>Independent Recruiters</td>\n",
       "      <td>['python']</td>\n",
       "      <td>{'programming': ['python']}</td>\n",
       "    </tr>\n",
       "  </tbody>\n",
       "</table>\n",
       "</div>"
      ],
      "text/plain": [
       "              job_title_short  \\\n",
       "502901   Senior Data Engineer   \n",
       "406337  Senior Data Scientist   \n",
       "659951          Data Engineer   \n",
       "541593           Data Analyst   \n",
       "425158   Senior Data Engineer   \n",
       "\n",
       "                                                job_title  \\\n",
       "502901                               Senior Data Engineer   \n",
       "406337                          Senior Analytics Engineer   \n",
       "659951                                      Data Engineer   \n",
       "541593                                       Data Analyst   \n",
       "425158  Senior Data Engineer. Job in Amsterdam NBC4i Jobs   \n",
       "\n",
       "                   job_location          job_via job_schedule_type  \\\n",
       "502901              St Paul, MN        via BeBee         Full-time   \n",
       "406337               London, UK     via LinkedIn         Full-time   \n",
       "659951  Newcastle upon Tyne, UK       via Indeed         Full-time   \n",
       "541593                    Malta  via Trabajo.org         Full-time   \n",
       "425158   Amsterdam, Netherlands   via NBC4i Jobs         Full-time   \n",
       "\n",
       "        job_work_from_home         search_location     job_posted_date  \\\n",
       "502901               False  Florida, United States 2023-12-17 11:09:06   \n",
       "406337               False          United Kingdom 2023-10-06 16:09:56   \n",
       "659951               False          United Kingdom 2023-09-06 10:11:25   \n",
       "541593               False                   Malta 2023-02-14 21:14:18   \n",
       "425158               False             Netherlands 2023-06-19 16:34:30   \n",
       "\n",
       "        job_no_degree_mention  job_health_insurance     job_country  \\\n",
       "502901                  False                 False   United States   \n",
       "406337                  False                 False  United Kingdom   \n",
       "659951                   True                 False  United Kingdom   \n",
       "541593                   True                 False           Malta   \n",
       "425158                   True                 False     Netherlands   \n",
       "\n",
       "       salary_rate  salary_year_avg  salary_hour_avg            company_name  \\\n",
       "502901         NaN         115000.0              NaN           ManpowerGroup   \n",
       "406337         NaN         115000.0              NaN                 Harnham   \n",
       "659951         NaN         115000.0              NaN             Morgan King   \n",
       "541593         NaN         115000.0              NaN                 Konnekt   \n",
       "425158         NaN         115000.0              NaN  Independent Recruiters   \n",
       "\n",
       "                                               job_skills  \\\n",
       "502901                            ['sql', 'azure', 'git']   \n",
       "406337  ['sql', 'python', 'bigquery', 'snowflake', 'lo...   \n",
       "659951                                                NaN   \n",
       "541593                                           ['jira']   \n",
       "425158                                         ['python']   \n",
       "\n",
       "                                          job_type_skills  \n",
       "502901  {'cloud': ['azure'], 'other': ['git'], 'progra...  \n",
       "406337  {'analyst_tools': ['looker'], 'cloud': ['bigqu...  \n",
       "659951                                                NaN  \n",
       "541593                                {'async': ['jira']}  \n",
       "425158                        {'programming': ['python']}  "
      ]
     },
     "execution_count": 26,
     "metadata": {},
     "output_type": "execute_result"
    }
   ],
   "source": [
    "df.sample(5,random_state = 42)"
   ]
  },
  {
   "cell_type": "code",
   "execution_count": 27,
   "id": "afcea910",
   "metadata": {},
   "outputs": [],
   "source": [
    "df_altered = df.copy()"
   ]
  },
  {
   "cell_type": "code",
   "execution_count": 31,
   "id": "da2c237b",
   "metadata": {},
   "outputs": [
    {
     "name": "stdout",
     "output_type": "stream",
     "text": [
      "3193321114512\n",
      "3193308300304\n",
      "False\n"
     ]
    }
   ],
   "source": [
    "print(id(df_altered))\n",
    "print(id(df))\n",
    "print(id(df) == id(df_altered))"
   ]
  },
  {
   "cell_type": "markdown",
   "id": "44f2731e",
   "metadata": {},
   "source": [
    "## Pivot Tables in Pandas"
   ]
  },
  {
   "cell_type": "markdown",
   "id": "ec6536eb",
   "metadata": {},
   "source": [
    "Pivot tables in Python are typically created using the pandas library. They help summarize and analyze data by reorganizing it — especially useful for grouping, aggregating, and comparing values across categories.\n"
   ]
  },
  {
   "cell_type": "code",
   "execution_count": 34,
   "id": "b70fa988",
   "metadata": {},
   "outputs": [
    {
     "name": "stdout",
     "output_type": "stream",
     "text": [
      "<class 'pandas.core.frame.DataFrame'>\n",
      "RangeIndex: 785741 entries, 0 to 785740\n",
      "Data columns (total 17 columns):\n",
      " #   Column                 Non-Null Count   Dtype         \n",
      "---  ------                 --------------   -----         \n",
      " 0   job_title_short        785741 non-null  object        \n",
      " 1   job_title              785740 non-null  object        \n",
      " 2   job_location           784696 non-null  object        \n",
      " 3   job_via                785733 non-null  object        \n",
      " 4   job_schedule_type      773074 non-null  object        \n",
      " 5   job_work_from_home     785741 non-null  bool          \n",
      " 6   search_location        785741 non-null  object        \n",
      " 7   job_posted_date        785741 non-null  datetime64[ns]\n",
      " 8   job_no_degree_mention  785741 non-null  bool          \n",
      " 9   job_health_insurance   785741 non-null  bool          \n",
      " 10  job_country            785692 non-null  object        \n",
      " 11  salary_rate            33067 non-null   object        \n",
      " 12  salary_year_avg        785741 non-null  float64       \n",
      " 13  salary_hour_avg        10662 non-null   float64       \n",
      " 14  company_name           785723 non-null  object        \n",
      " 15  job_skills             668704 non-null  object        \n",
      " 16  job_type_skills        668704 non-null  object        \n",
      "dtypes: bool(3), datetime64[ns](1), float64(2), object(11)\n",
      "memory usage: 86.2+ MB\n"
     ]
    }
   ],
   "source": [
    "df.info()"
   ]
  },
  {
   "cell_type": "code",
   "execution_count": null,
   "id": "e9778410",
   "metadata": {},
   "outputs": [],
   "source": []
  },
  {
   "cell_type": "code",
   "execution_count": null,
   "id": "ea61f1e4",
   "metadata": {},
   "outputs": [],
   "source": [
    "\n"
   ]
  },
  {
   "cell_type": "code",
   "execution_count": 61,
   "id": "d11c957e",
   "metadata": {},
   "outputs": [
    {
     "data": {
      "text/html": [
       "<div>\n",
       "<style scoped>\n",
       "    .dataframe tbody tr th:only-of-type {\n",
       "        vertical-align: middle;\n",
       "    }\n",
       "\n",
       "    .dataframe tbody tr th {\n",
       "        vertical-align: top;\n",
       "    }\n",
       "\n",
       "    .dataframe thead th {\n",
       "        text-align: right;\n",
       "    }\n",
       "</style>\n",
       "<table border=\"1\" class=\"dataframe\">\n",
       "  <thead>\n",
       "    <tr style=\"text-align: right;\">\n",
       "      <th>job_title_short</th>\n",
       "      <th>Data Analyst</th>\n",
       "      <th>Cloud Engineer</th>\n",
       "      <th>Business Analyst</th>\n",
       "    </tr>\n",
       "    <tr>\n",
       "      <th>job_country</th>\n",
       "      <th></th>\n",
       "      <th></th>\n",
       "      <th></th>\n",
       "    </tr>\n",
       "  </thead>\n",
       "  <tbody>\n",
       "    <tr>\n",
       "      <th>United States</th>\n",
       "      <td>115000.0</td>\n",
       "      <td>115000.0</td>\n",
       "      <td>115000.0</td>\n",
       "    </tr>\n",
       "    <tr>\n",
       "      <th>India</th>\n",
       "      <td>115000.0</td>\n",
       "      <td>115000.0</td>\n",
       "      <td>115000.0</td>\n",
       "    </tr>\n",
       "    <tr>\n",
       "      <th>United Kingdom</th>\n",
       "      <td>115000.0</td>\n",
       "      <td>115000.0</td>\n",
       "      <td>115000.0</td>\n",
       "    </tr>\n",
       "    <tr>\n",
       "      <th>France</th>\n",
       "      <td>115000.0</td>\n",
       "      <td>115000.0</td>\n",
       "      <td>115000.0</td>\n",
       "    </tr>\n",
       "    <tr>\n",
       "      <th>Germany</th>\n",
       "      <td>115000.0</td>\n",
       "      <td>115000.0</td>\n",
       "      <td>115000.0</td>\n",
       "    </tr>\n",
       "    <tr>\n",
       "      <th>Spain</th>\n",
       "      <td>115000.0</td>\n",
       "      <td>115000.0</td>\n",
       "      <td>115000.0</td>\n",
       "    </tr>\n",
       "  </tbody>\n",
       "</table>\n",
       "</div>"
      ],
      "text/plain": [
       "job_title_short  Data Analyst  Cloud Engineer  Business Analyst\n",
       "job_country                                                    \n",
       "United States        115000.0        115000.0          115000.0\n",
       "India                115000.0        115000.0          115000.0\n",
       "United Kingdom       115000.0        115000.0          115000.0\n",
       "France               115000.0        115000.0          115000.0\n",
       "Germany              115000.0        115000.0          115000.0\n",
       "Spain                115000.0        115000.0          115000.0"
      ]
     },
     "execution_count": 61,
     "metadata": {},
     "output_type": "execute_result"
    }
   ],
   "source": [
    "top_countries = df['job_country'].value_counts().head(6).index\n",
    "df_countries_pivot = df.pivot_table(\n",
    "    values = 'salary_year_avg',\n",
    "    index='job_country',\n",
    "    columns='job_title_short',\n",
    "    aggfunc='median'\n",
    ")\n",
    "df_countries_pivot = df_countries_pivot.loc[top_countries]\n",
    "job_titles = ['Data Analyst','Cloud Engineer','Business Analyst']\n",
    "df_countries_pivot = df_countries_pivot[job_titles]\n",
    "df_countries_pivot\n",
    "# df_countries_pivot.plot(kind = 'bar')"
   ]
  }
 ],
 "metadata": {
  "kernelspec": {
   "display_name": "Python 3",
   "language": "python",
   "name": "python3"
  },
  "language_info": {
   "codemirror_mode": {
    "name": "ipython",
    "version": 3
   },
   "file_extension": ".py",
   "mimetype": "text/x-python",
   "name": "python",
   "nbconvert_exporter": "python",
   "pygments_lexer": "ipython3",
   "version": "3.13.5"
  }
 },
 "nbformat": 4,
 "nbformat_minor": 5
}
